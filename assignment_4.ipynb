{
 "cells": [
  {
   "cell_type": "code",
   "execution_count": 59,
   "metadata": {},
   "outputs": [
    {
     "name": "stderr",
     "output_type": "stream",
     "text": [
      "WARNING: redefinition of constant OneHotEncoder. This may fail, cause incorrect answers, or produce other errors.\n"
     ]
    },
    {
     "data": {
      "text/plain": [
       "PyObject <class 'sklearn.preprocessing._label.LabelEncoder'>"
      ]
     },
     "execution_count": 59,
     "metadata": {},
     "output_type": "execute_result"
    }
   ],
   "source": [
    "using CSV\n",
    "using DataFrames\n",
    "using Tables\n",
    "using ScikitLearn\n",
    "using ScikitLearn.CrossValidation: train_test_split\n",
    "@sk_import preprocessing: OneHotEncoder\n",
    "@sk_import preprocessing: LabelEncoder"
   ]
  },
  {
   "cell_type": "markdown",
   "metadata": {},
   "source": [
    "# Cars"
   ]
  },
  {
   "cell_type": "markdown",
   "metadata": {},
   "source": [
    "## Preprocessing"
   ]
  },
  {
   "cell_type": "code",
   "execution_count": 47,
   "metadata": {
    "scrolled": true
   },
   "outputs": [
    {
     "data": {
      "text/plain": [
       "1728-element Array{String,1}:\n",
       " \"unacc\"\n",
       " \"unacc\"\n",
       " \"unacc\"\n",
       " \"unacc\"\n",
       " \"unacc\"\n",
       " \"unacc\"\n",
       " \"unacc\"\n",
       " \"unacc\"\n",
       " \"unacc\"\n",
       " \"unacc\"\n",
       " \"unacc\"\n",
       " \"unacc\"\n",
       " \"unacc\"\n",
       " ⋮\n",
       " \"unacc\"\n",
       " \"good\"\n",
       " \"vgood\"\n",
       " \"unacc\"\n",
       " \"acc\"\n",
       " \"good\"\n",
       " \"unacc\"\n",
       " \"good\"\n",
       " \"vgood\"\n",
       " \"unacc\"\n",
       " \"good\"\n",
       " \"vgood\""
      ]
     },
     "execution_count": 47,
     "metadata": {},
     "output_type": "execute_result"
    }
   ],
   "source": [
    "cars = CSV.File(\"data/cars/car.data\", \n",
    "        header=[\"buying\", \"maint\", \"doors\", \"persons\", \"lug_boot\", \"safety\", \"class\"]) |> DataFrame\n",
    "cars_X = convert(Array, cars[:, Not(7)])\n",
    "cars_y = convert(Array, cars[:, 7])"
   ]
  },
  {
   "cell_type": "code",
   "execution_count": 48,
   "metadata": {},
   "outputs": [
    {
     "data": {
      "text/plain": [
       "4-element Array{Array{String,N} where N,1}:\n",
       " [\"vhigh\" \"low\" … \"small\" \"low\"; \"high\" \"vhigh\" … \"small\" \"low\"; … ; \"vhigh\" \"high\" … \"big\" \"high\"; \"med\" \"vhigh\" … \"med\" \"low\"]\n",
       " [\"high\" \"low\" … \"med\" \"med\"; \"vhigh\" \"vhigh\" … \"med\" \"high\"; … ; \"vhigh\" \"vhigh\" … \"small\" \"high\"; \"high\" \"high\" … \"big\" \"med\"]\n",
       " [\"unacc\", \"unacc\", \"good\", \"unacc\", \"unacc\", \"unacc\", \"acc\", \"acc\", \"acc\", \"unacc\"  …  \"unacc\", \"acc\", \"unacc\", \"unacc\", \"unacc\", \"unacc\", \"acc\", \"unacc\", \"unacc\", \"unacc\"]\n",
       " [\"acc\", \"unacc\", \"acc\", \"acc\", \"acc\", \"unacc\", \"unacc\", \"unacc\", \"vgood\", \"unacc\"  …  \"vgood\", \"acc\", \"acc\", \"unacc\", \"unacc\", \"unacc\", \"unacc\", \"acc\", \"unacc\", \"acc\"]"
      ]
     },
     "execution_count": 48,
     "metadata": {},
     "output_type": "execute_result"
    }
   ],
   "source": [
    "X_train, X_test, y_train, y_test = train_test_split(cars_X, cars_y, test_size=0.3, random_state=5)"
   ]
  },
  {
   "cell_type": "code",
   "execution_count": 64,
   "metadata": {
    "scrolled": true
   },
   "outputs": [
    {
     "data": {
      "text/plain": [
       "519-element Array{Int64,1}:\n",
       " 0\n",
       " 2\n",
       " 0\n",
       " 0\n",
       " 0\n",
       " 2\n",
       " 2\n",
       " 2\n",
       " 3\n",
       " 2\n",
       " 2\n",
       " 0\n",
       " 2\n",
       " ⋮\n",
       " 2\n",
       " 2\n",
       " 3\n",
       " 0\n",
       " 0\n",
       " 2\n",
       " 2\n",
       " 2\n",
       " 2\n",
       " 0\n",
       " 2\n",
       " 0"
      ]
     },
     "execution_count": 64,
     "metadata": {},
     "output_type": "execute_result"
    }
   ],
   "source": [
    "ohc = OneHotEncoder()\n",
    "X_train_dummies = ohc.fit_transform(X_train).toarray()\n",
    "X_test_dummies = ohc.transform(X_test).toarray()\n",
    "\n",
    "le = LabelEncoder()\n",
    "y_train_encoded = le.fit_transform(y_train)\n",
    "y_test_encoded = le.transform(y_test)"
   ]
  },
  {
   "cell_type": "markdown",
   "metadata": {},
   "source": [
    "## Model Creation\n",
    "\n",
    "### Naive Bayesian Classifier"
   ]
  },
  {
   "cell_type": "code",
   "execution_count": null,
   "metadata": {},
   "outputs": [],
   "source": []
  }
 ],
 "metadata": {
  "kernelspec": {
   "display_name": "Julia 1.5.3",
   "language": "julia",
   "name": "julia-1.5"
  },
  "language_info": {
   "file_extension": ".jl",
   "mimetype": "application/julia",
   "name": "julia",
   "version": "1.5.3"
  }
 },
 "nbformat": 4,
 "nbformat_minor": 4
}
