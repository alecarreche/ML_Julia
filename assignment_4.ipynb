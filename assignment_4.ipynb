{
 "cells": [
  {
   "cell_type": "code",
   "execution_count": 34,
   "metadata": {},
   "outputs": [
    {
     "name": "stderr",
     "output_type": "stream",
     "text": [
      "WARNING: redefinition of constant OneHotEncoder. This may fail, cause incorrect answers, or produce other errors.\n",
      "WARNING: redefinition of constant LabelEncoder. This may fail, cause incorrect answers, or produce other errors.\n",
      "WARNING: redefinition of constant CategoricalNB. This may fail, cause incorrect answers, or produce other errors.\n",
      "WARNING: redefinition of constant GaussianNB. This may fail, cause incorrect answers, or produce other errors.\n",
      "WARNING: redefinition of constant MultinomialNB. This may fail, cause incorrect answers, or produce other errors.\n",
      "WARNING: redefinition of constant DecisionTreeClassifier. This may fail, cause incorrect answers, or produce other errors.\n",
      "WARNING: redefinition of constant SVC. This may fail, cause incorrect answers, or produce other errors.\n",
      "WARNING: redefinition of constant LinearSVC. This may fail, cause incorrect answers, or produce other errors.\n",
      "WARNING: redefinition of constant MLPClassifier. This may fail, cause incorrect answers, or produce other errors.\n",
      "WARNING: redefinition of constant accuracy_score. This may fail, cause incorrect answers, or produce other errors.\n"
     ]
    },
    {
     "data": {
      "text/plain": [
       "PyObject <function accuracy_score at 0x7f9a72f770d0>"
      ]
     },
     "execution_count": 34,
     "metadata": {},
     "output_type": "execute_result"
    }
   ],
   "source": [
    "using CSV\n",
    "using DataFrames\n",
    "using Tables\n",
    "using Statistics\n",
    "using ScikitLearn\n",
    "using ScikitLearn.CrossValidation: train_test_split\n",
    "@sk_import preprocessing: OneHotEncoder\n",
    "@sk_import preprocessing: LabelEncoder\n",
    "@sk_import naive_bayes: CategoricalNB\n",
    "@sk_import naive_bayes: GaussianNB\n",
    "@sk_import naive_bayes: MultinomialNB\n",
    "@sk_import tree: DecisionTreeClassifier\n",
    "@sk_import svm: SVC\n",
    "@sk_import svm: LinearSVC\n",
    "@sk_import neural_network: MLPClassifier\n",
    "@sk_import metrics: accuracy_score"
   ]
  },
  {
   "cell_type": "markdown",
   "metadata": {},
   "source": [
    "# Cars"
   ]
  },
  {
   "cell_type": "markdown",
   "metadata": {},
   "source": [
    "## Preprocessing"
   ]
  },
  {
   "cell_type": "code",
   "execution_count": 35,
   "metadata": {
    "scrolled": true
   },
   "outputs": [
    {
     "data": {
      "text/plain": [
       "1728-element Array{String,1}:\n",
       " \"unacc\"\n",
       " \"unacc\"\n",
       " \"unacc\"\n",
       " \"unacc\"\n",
       " \"unacc\"\n",
       " \"unacc\"\n",
       " \"unacc\"\n",
       " \"unacc\"\n",
       " \"unacc\"\n",
       " \"unacc\"\n",
       " \"unacc\"\n",
       " \"unacc\"\n",
       " \"unacc\"\n",
       " ⋮\n",
       " \"unacc\"\n",
       " \"good\"\n",
       " \"vgood\"\n",
       " \"unacc\"\n",
       " \"acc\"\n",
       " \"good\"\n",
       " \"unacc\"\n",
       " \"good\"\n",
       " \"vgood\"\n",
       " \"unacc\"\n",
       " \"good\"\n",
       " \"vgood\""
      ]
     },
     "execution_count": 35,
     "metadata": {},
     "output_type": "execute_result"
    }
   ],
   "source": [
    "cars = CSV.File(\"data/cars/car.data\", \n",
    "        header=[\"buying\", \"maint\", \"doors\", \"persons\", \"lug_boot\", \"safety\", \"class\"]) |> DataFrame\n",
    "cars_X = convert(Array, cars[:, Not(7)])\n",
    "cars_y = convert(Array, cars[:, 7])"
   ]
  },
  {
   "cell_type": "code",
   "execution_count": 36,
   "metadata": {},
   "outputs": [
    {
     "data": {
      "text/plain": [
       "4-element Array{Array{String,N} where N,1}:\n",
       " [\"vhigh\" \"low\" … \"small\" \"low\"; \"high\" \"vhigh\" … \"small\" \"low\"; … ; \"vhigh\" \"high\" … \"big\" \"high\"; \"med\" \"vhigh\" … \"med\" \"low\"]\n",
       " [\"high\" \"low\" … \"med\" \"med\"; \"vhigh\" \"vhigh\" … \"med\" \"high\"; … ; \"vhigh\" \"vhigh\" … \"small\" \"high\"; \"high\" \"high\" … \"big\" \"med\"]\n",
       " [\"unacc\", \"unacc\", \"good\", \"unacc\", \"unacc\", \"unacc\", \"acc\", \"acc\", \"acc\", \"unacc\"  …  \"unacc\", \"acc\", \"unacc\", \"unacc\", \"unacc\", \"unacc\", \"acc\", \"unacc\", \"unacc\", \"unacc\"]\n",
       " [\"acc\", \"unacc\", \"acc\", \"acc\", \"acc\", \"unacc\", \"unacc\", \"unacc\", \"vgood\", \"unacc\"  …  \"vgood\", \"acc\", \"acc\", \"unacc\", \"unacc\", \"unacc\", \"unacc\", \"acc\", \"unacc\", \"acc\"]"
      ]
     },
     "execution_count": 36,
     "metadata": {},
     "output_type": "execute_result"
    }
   ],
   "source": [
    "X_train, X_test, y_train, y_test = train_test_split(cars_X, cars_y, test_size=0.3, random_state=5)"
   ]
  },
  {
   "cell_type": "code",
   "execution_count": 37,
   "metadata": {
    "scrolled": true
   },
   "outputs": [
    {
     "data": {
      "text/plain": [
       "519-element Array{Int64,1}:\n",
       " 0\n",
       " 2\n",
       " 0\n",
       " 0\n",
       " 0\n",
       " 2\n",
       " 2\n",
       " 2\n",
       " 3\n",
       " 2\n",
       " 2\n",
       " 0\n",
       " 2\n",
       " ⋮\n",
       " 2\n",
       " 2\n",
       " 3\n",
       " 0\n",
       " 0\n",
       " 2\n",
       " 2\n",
       " 2\n",
       " 2\n",
       " 0\n",
       " 2\n",
       " 0"
      ]
     },
     "execution_count": 37,
     "metadata": {},
     "output_type": "execute_result"
    }
   ],
   "source": [
    "# encode the categorical features \n",
    "ohc = OneHotEncoder()\n",
    "X_train_dummies = ohc.fit_transform(X_train).toarray()\n",
    "X_test_dummies = ohc.transform(X_test).toarray()\n",
    "\n",
    "# encode the y's \n",
    "le = LabelEncoder()\n",
    "y_train_encoded = le.fit_transform(y_train)\n",
    "y_test_encoded = le.transform(y_test)"
   ]
  },
  {
   "cell_type": "markdown",
   "metadata": {},
   "source": [
    "## Model Creation\n",
    "\n",
    "### Naive Bayesian Classifier"
   ]
  },
  {
   "cell_type": "code",
   "execution_count": 38,
   "metadata": {
    "scrolled": true
   },
   "outputs": [
    {
     "name": "stdout",
     "output_type": "stream",
     "text": [
      "  0.008584 seconds (25 allocations: 1.266 KiB)\n"
     ]
    },
    {
     "data": {
      "text/plain": [
       "PyObject CategoricalNB(alpha=1)"
      ]
     },
     "execution_count": 38,
     "metadata": {},
     "output_type": "execute_result"
    }
   ],
   "source": [
    "# fit model \n",
    "@time begin\n",
    "    nb = fit!(CategoricalNB(1), X_train_dummies, y_train_encoded)\n",
    "end"
   ]
  },
  {
   "cell_type": "code",
   "execution_count": 39,
   "metadata": {},
   "outputs": [
    {
     "name": "stdout",
     "output_type": "stream",
     "text": [
      "  0.003194 seconds (68 allocations: 7.734 KiB)\n"
     ]
    },
    {
     "data": {
      "text/plain": [
       "0.8709055876685935"
      ]
     },
     "execution_count": 39,
     "metadata": {},
     "output_type": "execute_result"
    }
   ],
   "source": [
    "# make predictions \n",
    "@time begin\n",
    "    nb_pred = predict(nb, X_test_dummies)\n",
    "    accuracy_score(nb_pred, y_test_encoded) \n",
    "end"
   ]
  },
  {
   "cell_type": "markdown",
   "metadata": {},
   "source": [
    "### Decision Tree"
   ]
  },
  {
   "cell_type": "code",
   "execution_count": 40,
   "metadata": {},
   "outputs": [
    {
     "name": "stdout",
     "output_type": "stream",
     "text": [
      "  0.420842 seconds (54.60 k allocations: 59.460 MiB)\n"
     ]
    },
    {
     "data": {
      "text/plain": [
       "PyObject DecisionTreeClassifier(max_depth=11, random_state=5)"
      ]
     },
     "execution_count": 40,
     "metadata": {},
     "output_type": "execute_result"
    }
   ],
   "source": [
    "@time begin \n",
    "    # use cross validation to find optimal max depth \n",
    "    scores = []\n",
    "    for i in 1:30\n",
    "        tree = DecisionTreeClassifier(max_depth=i, random_state=5)\n",
    "        result = ScikitLearn.CrossValidation.cross_val_score(tree, X_train_dummies, y_train_encoded, cv=5)\n",
    "        append!(scores, mean(result))\n",
    "    end\n",
    "\n",
    "    # fit the best model \n",
    "    best_depth = argmax(scores)\n",
    "    tree = fit!(DecisionTreeClassifier(max_depth=best_depth, random_state=5),\n",
    "                X_train_dummies,\n",
    "                y_train_encoded)\n",
    "end"
   ]
  },
  {
   "cell_type": "code",
   "execution_count": 41,
   "metadata": {},
   "outputs": [
    {
     "name": "stdout",
     "output_type": "stream",
     "text": [
      "  0.000594 seconds (68 allocations: 7.734 KiB)\n"
     ]
    },
    {
     "data": {
      "text/plain": [
       "0.9479768786127167"
      ]
     },
     "execution_count": 41,
     "metadata": {},
     "output_type": "execute_result"
    }
   ],
   "source": [
    "@time begin\n",
    "    # results\n",
    "    tree_pred = predict(tree, X_test_dummies)\n",
    "    accuracy_score(tree_pred, y_test_encoded)\n",
    "end"
   ]
  },
  {
   "cell_type": "markdown",
   "metadata": {},
   "source": [
    "### SVM"
   ]
  },
  {
   "cell_type": "code",
   "execution_count": 42,
   "metadata": {},
   "outputs": [
    {
     "name": "stderr",
     "output_type": "stream",
     "text": [
      "/Users/alec/.julia/conda/3/lib/python3.8/site-packages/sklearn/utils/deprecation.py:101: FutureWarning: Attribute _pairwise was deprecated in version 0.24 and will be removed in 1.1 (renaming of 0.26).\n",
      "  warnings.warn(msg, category=FutureWarning)\n",
      "/Users/alec/.julia/conda/3/lib/python3.8/site-packages/sklearn/utils/deprecation.py:101: FutureWarning: Attribute _pairwise was deprecated in version 0.24 and will be removed in 1.1 (renaming of 0.26).\n",
      "  warnings.warn(msg, category=FutureWarning)\n",
      "/Users/alec/.julia/conda/3/lib/python3.8/site-packages/sklearn/utils/deprecation.py:101: FutureWarning: Attribute _pairwise was deprecated in version 0.24 and will be removed in 1.1 (renaming of 0.26).\n",
      "  warnings.warn(msg, category=FutureWarning)\n",
      "/Users/alec/.julia/conda/3/lib/python3.8/site-packages/sklearn/utils/deprecation.py:101: FutureWarning: Attribute _pairwise was deprecated in version 0.24 and will be removed in 1.1 (renaming of 0.26).\n",
      "  warnings.warn(msg, category=FutureWarning)\n",
      "/Users/alec/.julia/conda/3/lib/python3.8/site-packages/sklearn/utils/deprecation.py:101: FutureWarning: Attribute _pairwise was deprecated in version 0.24 and will be removed in 1.1 (renaming of 0.26).\n",
      "  warnings.warn(msg, category=FutureWarning)\n",
      "/Users/alec/.julia/conda/3/lib/python3.8/site-packages/sklearn/utils/deprecation.py:101: FutureWarning: Attribute _pairwise was deprecated in version 0.24 and will be removed in 1.1 (renaming of 0.26).\n",
      "  warnings.warn(msg, category=FutureWarning)\n",
      "/Users/alec/.julia/conda/3/lib/python3.8/site-packages/sklearn/utils/deprecation.py:101: FutureWarning: Attribute _pairwise was deprecated in version 0.24 and will be removed in 1.1 (renaming of 0.26).\n",
      "  warnings.warn(msg, category=FutureWarning)\n",
      "/Users/alec/.julia/conda/3/lib/python3.8/site-packages/sklearn/utils/deprecation.py:101: FutureWarning: Attribute _pairwise was deprecated in version 0.24 and will be removed in 1.1 (renaming of 0.26).\n",
      "  warnings.warn(msg, category=FutureWarning)\n",
      "/Users/alec/.julia/conda/3/lib/python3.8/site-packages/sklearn/utils/deprecation.py:101: FutureWarning: Attribute _pairwise was deprecated in version 0.24 and will be removed in 1.1 (renaming of 0.26).\n",
      "  warnings.warn(msg, category=FutureWarning)\n",
      "/Users/alec/.julia/conda/3/lib/python3.8/site-packages/sklearn/utils/deprecation.py:101: FutureWarning: Attribute _pairwise was deprecated in version 0.24 and will be removed in 1.1 (renaming of 0.26).\n",
      "  warnings.warn(msg, category=FutureWarning)\n",
      "/Users/alec/.julia/conda/3/lib/python3.8/site-packages/sklearn/utils/deprecation.py:101: FutureWarning: Attribute _pairwise was deprecated in version 0.24 and will be removed in 1.1 (renaming of 0.26).\n",
      "  warnings.warn(msg, category=FutureWarning)\n",
      "/Users/alec/.julia/conda/3/lib/python3.8/site-packages/sklearn/utils/deprecation.py:101: FutureWarning: Attribute _pairwise was deprecated in version 0.24 and will be removed in 1.1 (renaming of 0.26).\n",
      "  warnings.warn(msg, category=FutureWarning)\n",
      "/Users/alec/.julia/conda/3/lib/python3.8/site-packages/sklearn/utils/deprecation.py:101: FutureWarning: Attribute _pairwise was deprecated in version 0.24 and will be removed in 1.1 (renaming of 0.26).\n",
      "  warnings.warn(msg, category=FutureWarning)\n",
      "/Users/alec/.julia/conda/3/lib/python3.8/site-packages/sklearn/utils/deprecation.py:101: FutureWarning: Attribute _pairwise was deprecated in version 0.24 and will be removed in 1.1 (renaming of 0.26).\n",
      "  warnings.warn(msg, category=FutureWarning)\n",
      "/Users/alec/.julia/conda/3/lib/python3.8/site-packages/sklearn/utils/deprecation.py:101: FutureWarning: Attribute _pairwise was deprecated in version 0.24 and will be removed in 1.1 (renaming of 0.26).\n",
      "  warnings.warn(msg, category=FutureWarning)\n",
      "/Users/alec/.julia/conda/3/lib/python3.8/site-packages/sklearn/utils/deprecation.py:101: FutureWarning: Attribute _pairwise was deprecated in version 0.24 and will be removed in 1.1 (renaming of 0.26).\n",
      "  warnings.warn(msg, category=FutureWarning)\n",
      "/Users/alec/.julia/conda/3/lib/python3.8/site-packages/sklearn/utils/deprecation.py:101: FutureWarning: Attribute _pairwise was deprecated in version 0.24 and will be removed in 1.1 (renaming of 0.26).\n",
      "  warnings.warn(msg, category=FutureWarning)\n",
      "/Users/alec/.julia/conda/3/lib/python3.8/site-packages/sklearn/utils/deprecation.py:101: FutureWarning: Attribute _pairwise was deprecated in version 0.24 and will be removed in 1.1 (renaming of 0.26).\n",
      "  warnings.warn(msg, category=FutureWarning)\n",
      "/Users/alec/.julia/conda/3/lib/python3.8/site-packages/sklearn/utils/deprecation.py:101: FutureWarning: Attribute _pairwise was deprecated in version 0.24 and will be removed in 1.1 (renaming of 0.26).\n",
      "  warnings.warn(msg, category=FutureWarning)\n",
      "/Users/alec/.julia/conda/3/lib/python3.8/site-packages/sklearn/utils/deprecation.py:101: FutureWarning: Attribute _pairwise was deprecated in version 0.24 and will be removed in 1.1 (renaming of 0.26).\n",
      "  warnings.warn(msg, category=FutureWarning)\n",
      "/Users/alec/.julia/conda/3/lib/python3.8/site-packages/sklearn/utils/deprecation.py:101: FutureWarning: Attribute _pairwise was deprecated in version 0.24 and will be removed in 1.1 (renaming of 0.26).\n",
      "  warnings.warn(msg, category=FutureWarning)\n",
      "/Users/alec/.julia/conda/3/lib/python3.8/site-packages/sklearn/utils/deprecation.py:101: FutureWarning: Attribute _pairwise was deprecated in version 0.24 and will be removed in 1.1 (renaming of 0.26).\n",
      "  warnings.warn(msg, category=FutureWarning)\n",
      "/Users/alec/.julia/conda/3/lib/python3.8/site-packages/sklearn/utils/deprecation.py:101: FutureWarning: Attribute _pairwise was deprecated in version 0.24 and will be removed in 1.1 (renaming of 0.26).\n",
      "  warnings.warn(msg, category=FutureWarning)\n",
      "/Users/alec/.julia/conda/3/lib/python3.8/site-packages/sklearn/utils/deprecation.py:101: FutureWarning: Attribute _pairwise was deprecated in version 0.24 and will be removed in 1.1 (renaming of 0.26).\n",
      "  warnings.warn(msg, category=FutureWarning)\n",
      "/Users/alec/.julia/conda/3/lib/python3.8/site-packages/sklearn/utils/deprecation.py:101: FutureWarning: Attribute _pairwise was deprecated in version 0.24 and will be removed in 1.1 (renaming of 0.26).\n",
      "  warnings.warn(msg, category=FutureWarning)\n",
      "/Users/alec/.julia/conda/3/lib/python3.8/site-packages/sklearn/utils/deprecation.py:101: FutureWarning: Attribute _pairwise was deprecated in version 0.24 and will be removed in 1.1 (renaming of 0.26).\n",
      "  warnings.warn(msg, category=FutureWarning)\n",
      "/Users/alec/.julia/conda/3/lib/python3.8/site-packages/sklearn/utils/deprecation.py:101: FutureWarning: Attribute _pairwise was deprecated in version 0.24 and will be removed in 1.1 (renaming of 0.26).\n",
      "  warnings.warn(msg, category=FutureWarning)\n",
      "/Users/alec/.julia/conda/3/lib/python3.8/site-packages/sklearn/utils/deprecation.py:101: FutureWarning: Attribute _pairwise was deprecated in version 0.24 and will be removed in 1.1 (renaming of 0.26).\n",
      "  warnings.warn(msg, category=FutureWarning)\n",
      "/Users/alec/.julia/conda/3/lib/python3.8/site-packages/sklearn/utils/deprecation.py:101: FutureWarning: Attribute _pairwise was deprecated in version 0.24 and will be removed in 1.1 (renaming of 0.26).\n",
      "  warnings.warn(msg, category=FutureWarning)\n",
      "/Users/alec/.julia/conda/3/lib/python3.8/site-packages/sklearn/utils/deprecation.py:101: FutureWarning: Attribute _pairwise was deprecated in version 0.24 and will be removed in 1.1 (renaming of 0.26).\n",
      "  warnings.warn(msg, category=FutureWarning)\n",
      "/Users/alec/.julia/conda/3/lib/python3.8/site-packages/sklearn/utils/deprecation.py:101: FutureWarning: Attribute _pairwise was deprecated in version 0.24 and will be removed in 1.1 (renaming of 0.26).\n",
      "  warnings.warn(msg, category=FutureWarning)\n",
      "/Users/alec/.julia/conda/3/lib/python3.8/site-packages/sklearn/utils/deprecation.py:101: FutureWarning: Attribute _pairwise was deprecated in version 0.24 and will be removed in 1.1 (renaming of 0.26).\n",
      "  warnings.warn(msg, category=FutureWarning)\n",
      "/Users/alec/.julia/conda/3/lib/python3.8/site-packages/sklearn/utils/deprecation.py:101: FutureWarning: Attribute _pairwise was deprecated in version 0.24 and will be removed in 1.1 (renaming of 0.26).\n",
      "  warnings.warn(msg, category=FutureWarning)\n",
      "/Users/alec/.julia/conda/3/lib/python3.8/site-packages/sklearn/utils/deprecation.py:101: FutureWarning: Attribute _pairwise was deprecated in version 0.24 and will be removed in 1.1 (renaming of 0.26).\n",
      "  warnings.warn(msg, category=FutureWarning)\n",
      "/Users/alec/.julia/conda/3/lib/python3.8/site-packages/sklearn/utils/deprecation.py:101: FutureWarning: Attribute _pairwise was deprecated in version 0.24 and will be removed in 1.1 (renaming of 0.26).\n",
      "  warnings.warn(msg, category=FutureWarning)\n",
      "/Users/alec/.julia/conda/3/lib/python3.8/site-packages/sklearn/utils/deprecation.py:101: FutureWarning: Attribute _pairwise was deprecated in version 0.24 and will be removed in 1.1 (renaming of 0.26).\n",
      "  warnings.warn(msg, category=FutureWarning)\n",
      "/Users/alec/.julia/conda/3/lib/python3.8/site-packages/sklearn/utils/deprecation.py:101: FutureWarning: Attribute _pairwise was deprecated in version 0.24 and will be removed in 1.1 (renaming of 0.26).\n",
      "  warnings.warn(msg, category=FutureWarning)\n",
      "/Users/alec/.julia/conda/3/lib/python3.8/site-packages/sklearn/utils/deprecation.py:101: FutureWarning: Attribute _pairwise was deprecated in version 0.24 and will be removed in 1.1 (renaming of 0.26).\n",
      "  warnings.warn(msg, category=FutureWarning)\n",
      "/Users/alec/.julia/conda/3/lib/python3.8/site-packages/sklearn/neural_network/_multilayer_perceptron.py:614: ConvergenceWarning: Stochastic Optimizer: Maximum iterations (200) reached and the optimization hasn't converged yet.\n",
      "  warnings.warn(\n",
      "/Users/alec/.julia/conda/3/lib/python3.8/site-packages/sklearn/neural_network/_multilayer_perceptron.py:614: ConvergenceWarning: Stochastic Optimizer: Maximum iterations (200) reached and the optimization hasn't converged yet.\n",
      "  warnings.warn(\n",
      "/Users/alec/.julia/conda/3/lib/python3.8/site-packages/sklearn/neural_network/_multilayer_perceptron.py:614: ConvergenceWarning: Stochastic Optimizer: Maximum iterations (200) reached and the optimization hasn't converged yet.\n",
      "  warnings.warn(\n",
      "/Users/alec/.julia/conda/3/lib/python3.8/site-packages/sklearn/neural_network/_multilayer_perceptron.py:614: ConvergenceWarning: Stochastic Optimizer: Maximum iterations (200) reached and the optimization hasn't converged yet.\n",
      "  warnings.warn(\n",
      "/Users/alec/.julia/conda/3/lib/python3.8/site-packages/sklearn/neural_network/_multilayer_perceptron.py:614: ConvergenceWarning: Stochastic Optimizer: Maximum iterations (200) reached and the optimization hasn't converged yet.\n",
      "  warnings.warn(\n",
      "/Users/alec/.julia/conda/3/lib/python3.8/site-packages/sklearn/neural_network/_multilayer_perceptron.py:614: ConvergenceWarning: Stochastic Optimizer: Maximum iterations (200) reached and the optimization hasn't converged yet.\n",
      "  warnings.warn(\n",
      "/Users/alec/.julia/conda/3/lib/python3.8/site-packages/sklearn/neural_network/_multilayer_perceptron.py:614: ConvergenceWarning: Stochastic Optimizer: Maximum iterations (200) reached and the optimization hasn't converged yet.\n",
      "  warnings.warn(\n",
      "/Users/alec/.julia/conda/3/lib/python3.8/site-packages/sklearn/svm/_base.py:985: ConvergenceWarning: Liblinear failed to converge, increase the number of iterations.\n",
      "  warnings.warn(\"Liblinear failed to converge, increase \"\n",
      "/Users/alec/.julia/conda/3/lib/python3.8/site-packages/sklearn/svm/_base.py:985: ConvergenceWarning: Liblinear failed to converge, increase the number of iterations.\n",
      "  warnings.warn(\"Liblinear failed to converge, increase \"\n",
      "/Users/alec/.julia/conda/3/lib/python3.8/site-packages/sklearn/svm/_base.py:985: ConvergenceWarning: Liblinear failed to converge, increase the number of iterations.\n",
      "  warnings.warn(\"Liblinear failed to converge, increase \"\n",
      "/Users/alec/.julia/conda/3/lib/python3.8/site-packages/sklearn/svm/_base.py:985: ConvergenceWarning: Liblinear failed to converge, increase the number of iterations.\n",
      "  warnings.warn(\"Liblinear failed to converge, increase \"\n",
      "/Users/alec/.julia/conda/3/lib/python3.8/site-packages/sklearn/svm/_base.py:985: ConvergenceWarning: Liblinear failed to converge, increase the number of iterations.\n",
      "  warnings.warn(\"Liblinear failed to converge, increase \"\n",
      "/Users/alec/.julia/conda/3/lib/python3.8/site-packages/sklearn/utils/validation.py:70: FutureWarning: Pass alpha=1 as keyword args. From version 1.0 (renaming of 0.25) passing these as positional arguments will result in an error\n",
      "  warnings.warn(f\"Pass {args_msg} as keyword args. From version \"\n",
      "/Users/alec/.julia/conda/3/lib/python3.8/site-packages/sklearn/utils/deprecation.py:101: FutureWarning: Attribute _pairwise was deprecated in version 0.24 and will be removed in 1.1 (renaming of 0.26).\n",
      "  warnings.warn(msg, category=FutureWarning)\n",
      "/Users/alec/.julia/conda/3/lib/python3.8/site-packages/sklearn/utils/deprecation.py:101: FutureWarning: Attribute _pairwise was deprecated in version 0.24 and will be removed in 1.1 (renaming of 0.26).\n",
      "  warnings.warn(msg, category=FutureWarning)\n",
      "/Users/alec/.julia/conda/3/lib/python3.8/site-packages/sklearn/utils/deprecation.py:101: FutureWarning: Attribute _pairwise was deprecated in version 0.24 and will be removed in 1.1 (renaming of 0.26).\n",
      "  warnings.warn(msg, category=FutureWarning)\n",
      "/Users/alec/.julia/conda/3/lib/python3.8/site-packages/sklearn/utils/deprecation.py:101: FutureWarning: Attribute _pairwise was deprecated in version 0.24 and will be removed in 1.1 (renaming of 0.26).\n",
      "  warnings.warn(msg, category=FutureWarning)\n",
      "/Users/alec/.julia/conda/3/lib/python3.8/site-packages/sklearn/utils/deprecation.py:101: FutureWarning: Attribute _pairwise was deprecated in version 0.24 and will be removed in 1.1 (renaming of 0.26).\n",
      "  warnings.warn(msg, category=FutureWarning)\n",
      "/Users/alec/.julia/conda/3/lib/python3.8/site-packages/sklearn/utils/deprecation.py:101: FutureWarning: Attribute _pairwise was deprecated in version 0.24 and will be removed in 1.1 (renaming of 0.26).\n",
      "  warnings.warn(msg, category=FutureWarning)\n",
      "/Users/alec/.julia/conda/3/lib/python3.8/site-packages/sklearn/utils/deprecation.py:101: FutureWarning: Attribute _pairwise was deprecated in version 0.24 and will be removed in 1.1 (renaming of 0.26).\n",
      "  warnings.warn(msg, category=FutureWarning)\n",
      "/Users/alec/.julia/conda/3/lib/python3.8/site-packages/sklearn/utils/deprecation.py:101: FutureWarning: Attribute _pairwise was deprecated in version 0.24 and will be removed in 1.1 (renaming of 0.26).\n",
      "  warnings.warn(msg, category=FutureWarning)\n",
      "/Users/alec/.julia/conda/3/lib/python3.8/site-packages/sklearn/utils/deprecation.py:101: FutureWarning: Attribute _pairwise was deprecated in version 0.24 and will be removed in 1.1 (renaming of 0.26).\n",
      "  warnings.warn(msg, category=FutureWarning)\n",
      "/Users/alec/.julia/conda/3/lib/python3.8/site-packages/sklearn/utils/deprecation.py:101: FutureWarning: Attribute _pairwise was deprecated in version 0.24 and will be removed in 1.1 (renaming of 0.26).\n",
      "  warnings.warn(msg, category=FutureWarning)\n",
      "/Users/alec/.julia/conda/3/lib/python3.8/site-packages/sklearn/utils/deprecation.py:101: FutureWarning: Attribute _pairwise was deprecated in version 0.24 and will be removed in 1.1 (renaming of 0.26).\n",
      "  warnings.warn(msg, category=FutureWarning)\n",
      "/Users/alec/.julia/conda/3/lib/python3.8/site-packages/sklearn/utils/deprecation.py:101: FutureWarning: Attribute _pairwise was deprecated in version 0.24 and will be removed in 1.1 (renaming of 0.26).\n",
      "  warnings.warn(msg, category=FutureWarning)\n",
      "/Users/alec/.julia/conda/3/lib/python3.8/site-packages/sklearn/utils/deprecation.py:101: FutureWarning: Attribute _pairwise was deprecated in version 0.24 and will be removed in 1.1 (renaming of 0.26).\n",
      "  warnings.warn(msg, category=FutureWarning)\n",
      "/Users/alec/.julia/conda/3/lib/python3.8/site-packages/sklearn/utils/deprecation.py:101: FutureWarning: Attribute _pairwise was deprecated in version 0.24 and will be removed in 1.1 (renaming of 0.26).\n",
      "  warnings.warn(msg, category=FutureWarning)\n",
      "/Users/alec/.julia/conda/3/lib/python3.8/site-packages/sklearn/utils/deprecation.py:101: FutureWarning: Attribute _pairwise was deprecated in version 0.24 and will be removed in 1.1 (renaming of 0.26).\n",
      "  warnings.warn(msg, category=FutureWarning)\n",
      "/Users/alec/.julia/conda/3/lib/python3.8/site-packages/sklearn/utils/deprecation.py:101: FutureWarning: Attribute _pairwise was deprecated in version 0.24 and will be removed in 1.1 (renaming of 0.26).\n",
      "  warnings.warn(msg, category=FutureWarning)\n",
      "/Users/alec/.julia/conda/3/lib/python3.8/site-packages/sklearn/utils/deprecation.py:101: FutureWarning: Attribute _pairwise was deprecated in version 0.24 and will be removed in 1.1 (renaming of 0.26).\n",
      "  warnings.warn(msg, category=FutureWarning)\n"
     ]
    },
    {
     "name": "stdout",
     "output_type": "stream",
     "text": [
      "  1.666465 seconds (11.70 k allocations: 13.379 MiB)\n"
     ]
    },
    {
     "data": {
      "text/plain": [
       "ScikitLearn.Skcore.GridSearchCV\n",
       "  estimator: PyCall.PyObject\n",
       "  param_grid: Dict{String,Array{T,1} where T}\n",
       "  scoring: Nothing nothing\n",
       "  loss_func: Nothing nothing\n",
       "  score_func: Nothing nothing\n",
       "  fit_params: Dict{Any,Any}\n",
       "  n_jobs: Int64 1\n",
       "  iid: Bool true\n",
       "  refit: Bool true\n",
       "  cv: Nothing nothing\n",
       "  verbose: Int64 0\n",
       "  error_score: String \"raise\"\n",
       "  scorer_: score (function of type typeof(score))\n",
       "  best_params_: Dict{Symbol,Any}\n",
       "  best_score_: Float64 0.9900744416873449\n",
       "  grid_scores_: Array{ScikitLearn.Skcore.CVScoreTuple}((20,))\n",
       "  best_estimator_: PyCall.PyObject\n"
      ]
     },
     "execution_count": 42,
     "metadata": {},
     "output_type": "execute_result"
    }
   ],
   "source": [
    "@time begin\n",
    "    # grid of parameters to be tried\n",
    "    param_grid = Dict(\"kernel\" => [\"linear\", \"poly\", \"rbf\", \"sigmoid\"],\n",
    "                      \"C\" => [0.01, 0.1, 1, 10, 100])\n",
    "\n",
    "    # cross-validated grid search \n",
    "    svc = SVC()\n",
    "    grid_cv = ScikitLearn.GridSearch.GridSearchCV(svc, param_grid)\n",
    "    fit!(grid_cv, X_train_dummies, y_train_encoded)\n",
    "end"
   ]
  },
  {
   "cell_type": "code",
   "execution_count": 43,
   "metadata": {},
   "outputs": [
    {
     "name": "stdout",
     "output_type": "stream",
     "text": [
      "  0.006664 seconds (68 allocations: 7.734 KiB)\n"
     ]
    },
    {
     "data": {
      "text/plain": [
       "0.9980732177263969"
      ]
     },
     "execution_count": 43,
     "metadata": {},
     "output_type": "execute_result"
    }
   ],
   "source": [
    "@time begin\n",
    "    # results \n",
    "    svc_pred = predict(grid_cv, X_test_dummies)\n",
    "    accuracy_score(svc_pred, y_test_encoded) \n",
    "end"
   ]
  },
  {
   "cell_type": "markdown",
   "metadata": {},
   "source": [
    "### MLP"
   ]
  },
  {
   "cell_type": "code",
   "execution_count": 44,
   "metadata": {},
   "outputs": [
    {
     "name": "stdout",
     "output_type": "stream",
     "text": [
      " 22.690299 seconds (2.08 k allocations: 173.531 KiB)\n"
     ]
    },
    {
     "data": {
      "text/plain": [
       "0.9865125240847784"
      ]
     },
     "execution_count": 44,
     "metadata": {},
     "output_type": "execute_result"
    }
   ],
   "source": [
    "@time begin\n",
    "    activations = [\"identity\", \"logistic\", \"tanh\", \"relu\"]\n",
    "    sizes = [30, 100, 500, 1000]\n",
    "    scores = []\n",
    "    for a in activations\n",
    "        for s in sizes\n",
    "            mlp = MLPClassifier(hidden_layer_sizes=(s), activation=a)\n",
    "            fit!(mlp, X_train_dummies, y_train_encoded)\n",
    "            mlp_pred = predict(mlp, X_test_dummies)\n",
    "            append!(scores, accuracy_score(mlp_pred, y_test_encoded))\n",
    "            end\n",
    "    end\n",
    "    maximum(scores)\n",
    "end"
   ]
  },
  {
   "cell_type": "markdown",
   "metadata": {},
   "source": [
    "# Abalone"
   ]
  },
  {
   "cell_type": "markdown",
   "metadata": {},
   "source": [
    "## Preprocessing"
   ]
  },
  {
   "cell_type": "code",
   "execution_count": 45,
   "metadata": {
    "scrolled": true
   },
   "outputs": [
    {
     "data": {
      "text/html": [
       "<table class=\"data-frame\"><thead><tr><th></th><th>Sex</th><th>Length</th><th>Diameter</th><th>Height</th><th>Whole weight</th><th>Shucked weight</th><th>Viscera weight</th></tr><tr><th></th><th>String</th><th>Float64</th><th>Float64</th><th>Float64</th><th>Float64</th><th>Float64</th><th>Float64</th></tr></thead><tbody><p>4,177 rows × 9 columns (omitted printing of 2 columns)</p><tr><th>1</th><td>M</td><td>0.455</td><td>0.365</td><td>0.095</td><td>0.514</td><td>0.2245</td><td>0.101</td></tr><tr><th>2</th><td>M</td><td>0.35</td><td>0.265</td><td>0.09</td><td>0.2255</td><td>0.0995</td><td>0.0485</td></tr><tr><th>3</th><td>F</td><td>0.53</td><td>0.42</td><td>0.135</td><td>0.677</td><td>0.2565</td><td>0.1415</td></tr><tr><th>4</th><td>M</td><td>0.44</td><td>0.365</td><td>0.125</td><td>0.516</td><td>0.2155</td><td>0.114</td></tr><tr><th>5</th><td>I</td><td>0.33</td><td>0.255</td><td>0.08</td><td>0.205</td><td>0.0895</td><td>0.0395</td></tr><tr><th>6</th><td>I</td><td>0.425</td><td>0.3</td><td>0.095</td><td>0.3515</td><td>0.141</td><td>0.0775</td></tr><tr><th>7</th><td>F</td><td>0.53</td><td>0.415</td><td>0.15</td><td>0.7775</td><td>0.237</td><td>0.1415</td></tr><tr><th>8</th><td>F</td><td>0.545</td><td>0.425</td><td>0.125</td><td>0.768</td><td>0.294</td><td>0.1495</td></tr><tr><th>9</th><td>M</td><td>0.475</td><td>0.37</td><td>0.125</td><td>0.5095</td><td>0.2165</td><td>0.1125</td></tr><tr><th>10</th><td>F</td><td>0.55</td><td>0.44</td><td>0.15</td><td>0.8945</td><td>0.3145</td><td>0.151</td></tr><tr><th>11</th><td>F</td><td>0.525</td><td>0.38</td><td>0.14</td><td>0.6065</td><td>0.194</td><td>0.1475</td></tr><tr><th>12</th><td>M</td><td>0.43</td><td>0.35</td><td>0.11</td><td>0.406</td><td>0.1675</td><td>0.081</td></tr><tr><th>13</th><td>M</td><td>0.49</td><td>0.38</td><td>0.135</td><td>0.5415</td><td>0.2175</td><td>0.095</td></tr><tr><th>14</th><td>F</td><td>0.535</td><td>0.405</td><td>0.145</td><td>0.6845</td><td>0.2725</td><td>0.171</td></tr><tr><th>15</th><td>F</td><td>0.47</td><td>0.355</td><td>0.1</td><td>0.4755</td><td>0.1675</td><td>0.0805</td></tr><tr><th>16</th><td>M</td><td>0.5</td><td>0.4</td><td>0.13</td><td>0.6645</td><td>0.258</td><td>0.133</td></tr><tr><th>17</th><td>I</td><td>0.355</td><td>0.28</td><td>0.085</td><td>0.2905</td><td>0.095</td><td>0.0395</td></tr><tr><th>18</th><td>F</td><td>0.44</td><td>0.34</td><td>0.1</td><td>0.451</td><td>0.188</td><td>0.087</td></tr><tr><th>19</th><td>M</td><td>0.365</td><td>0.295</td><td>0.08</td><td>0.2555</td><td>0.097</td><td>0.043</td></tr><tr><th>20</th><td>M</td><td>0.45</td><td>0.32</td><td>0.1</td><td>0.381</td><td>0.1705</td><td>0.075</td></tr><tr><th>21</th><td>M</td><td>0.355</td><td>0.28</td><td>0.095</td><td>0.2455</td><td>0.0955</td><td>0.062</td></tr><tr><th>22</th><td>I</td><td>0.38</td><td>0.275</td><td>0.1</td><td>0.2255</td><td>0.08</td><td>0.049</td></tr><tr><th>23</th><td>F</td><td>0.565</td><td>0.44</td><td>0.155</td><td>0.9395</td><td>0.4275</td><td>0.214</td></tr><tr><th>24</th><td>F</td><td>0.55</td><td>0.415</td><td>0.135</td><td>0.7635</td><td>0.318</td><td>0.21</td></tr><tr><th>25</th><td>F</td><td>0.615</td><td>0.48</td><td>0.165</td><td>1.1615</td><td>0.513</td><td>0.301</td></tr><tr><th>26</th><td>F</td><td>0.56</td><td>0.44</td><td>0.14</td><td>0.9285</td><td>0.3825</td><td>0.188</td></tr><tr><th>27</th><td>F</td><td>0.58</td><td>0.45</td><td>0.185</td><td>0.9955</td><td>0.3945</td><td>0.272</td></tr><tr><th>28</th><td>M</td><td>0.59</td><td>0.445</td><td>0.14</td><td>0.931</td><td>0.356</td><td>0.234</td></tr><tr><th>29</th><td>M</td><td>0.605</td><td>0.475</td><td>0.18</td><td>0.9365</td><td>0.394</td><td>0.219</td></tr><tr><th>30</th><td>M</td><td>0.575</td><td>0.425</td><td>0.14</td><td>0.8635</td><td>0.393</td><td>0.227</td></tr><tr><th>&vellip;</th><td>&vellip;</td><td>&vellip;</td><td>&vellip;</td><td>&vellip;</td><td>&vellip;</td><td>&vellip;</td><td>&vellip;</td></tr></tbody></table>"
      ],
      "text/latex": [
       "\\begin{tabular}{r|cccccccc}\n",
       "\t& Sex & Length & Diameter & Height & Whole weight & Shucked weight & Viscera weight & \\\\\n",
       "\t\\hline\n",
       "\t& String & Float64 & Float64 & Float64 & Float64 & Float64 & Float64 & \\\\\n",
       "\t\\hline\n",
       "\t1 & M & 0.455 & 0.365 & 0.095 & 0.514 & 0.2245 & 0.101 & $\\dots$ \\\\\n",
       "\t2 & M & 0.35 & 0.265 & 0.09 & 0.2255 & 0.0995 & 0.0485 & $\\dots$ \\\\\n",
       "\t3 & F & 0.53 & 0.42 & 0.135 & 0.677 & 0.2565 & 0.1415 & $\\dots$ \\\\\n",
       "\t4 & M & 0.44 & 0.365 & 0.125 & 0.516 & 0.2155 & 0.114 & $\\dots$ \\\\\n",
       "\t5 & I & 0.33 & 0.255 & 0.08 & 0.205 & 0.0895 & 0.0395 & $\\dots$ \\\\\n",
       "\t6 & I & 0.425 & 0.3 & 0.095 & 0.3515 & 0.141 & 0.0775 & $\\dots$ \\\\\n",
       "\t7 & F & 0.53 & 0.415 & 0.15 & 0.7775 & 0.237 & 0.1415 & $\\dots$ \\\\\n",
       "\t8 & F & 0.545 & 0.425 & 0.125 & 0.768 & 0.294 & 0.1495 & $\\dots$ \\\\\n",
       "\t9 & M & 0.475 & 0.37 & 0.125 & 0.5095 & 0.2165 & 0.1125 & $\\dots$ \\\\\n",
       "\t10 & F & 0.55 & 0.44 & 0.15 & 0.8945 & 0.3145 & 0.151 & $\\dots$ \\\\\n",
       "\t11 & F & 0.525 & 0.38 & 0.14 & 0.6065 & 0.194 & 0.1475 & $\\dots$ \\\\\n",
       "\t12 & M & 0.43 & 0.35 & 0.11 & 0.406 & 0.1675 & 0.081 & $\\dots$ \\\\\n",
       "\t13 & M & 0.49 & 0.38 & 0.135 & 0.5415 & 0.2175 & 0.095 & $\\dots$ \\\\\n",
       "\t14 & F & 0.535 & 0.405 & 0.145 & 0.6845 & 0.2725 & 0.171 & $\\dots$ \\\\\n",
       "\t15 & F & 0.47 & 0.355 & 0.1 & 0.4755 & 0.1675 & 0.0805 & $\\dots$ \\\\\n",
       "\t16 & M & 0.5 & 0.4 & 0.13 & 0.6645 & 0.258 & 0.133 & $\\dots$ \\\\\n",
       "\t17 & I & 0.355 & 0.28 & 0.085 & 0.2905 & 0.095 & 0.0395 & $\\dots$ \\\\\n",
       "\t18 & F & 0.44 & 0.34 & 0.1 & 0.451 & 0.188 & 0.087 & $\\dots$ \\\\\n",
       "\t19 & M & 0.365 & 0.295 & 0.08 & 0.2555 & 0.097 & 0.043 & $\\dots$ \\\\\n",
       "\t20 & M & 0.45 & 0.32 & 0.1 & 0.381 & 0.1705 & 0.075 & $\\dots$ \\\\\n",
       "\t21 & M & 0.355 & 0.28 & 0.095 & 0.2455 & 0.0955 & 0.062 & $\\dots$ \\\\\n",
       "\t22 & I & 0.38 & 0.275 & 0.1 & 0.2255 & 0.08 & 0.049 & $\\dots$ \\\\\n",
       "\t23 & F & 0.565 & 0.44 & 0.155 & 0.9395 & 0.4275 & 0.214 & $\\dots$ \\\\\n",
       "\t24 & F & 0.55 & 0.415 & 0.135 & 0.7635 & 0.318 & 0.21 & $\\dots$ \\\\\n",
       "\t25 & F & 0.615 & 0.48 & 0.165 & 1.1615 & 0.513 & 0.301 & $\\dots$ \\\\\n",
       "\t26 & F & 0.56 & 0.44 & 0.14 & 0.9285 & 0.3825 & 0.188 & $\\dots$ \\\\\n",
       "\t27 & F & 0.58 & 0.45 & 0.185 & 0.9955 & 0.3945 & 0.272 & $\\dots$ \\\\\n",
       "\t28 & M & 0.59 & 0.445 & 0.14 & 0.931 & 0.356 & 0.234 & $\\dots$ \\\\\n",
       "\t29 & M & 0.605 & 0.475 & 0.18 & 0.9365 & 0.394 & 0.219 & $\\dots$ \\\\\n",
       "\t30 & M & 0.575 & 0.425 & 0.14 & 0.8635 & 0.393 & 0.227 & $\\dots$ \\\\\n",
       "\t$\\dots$ & $\\dots$ & $\\dots$ & $\\dots$ & $\\dots$ & $\\dots$ & $\\dots$ & $\\dots$ &  \\\\\n",
       "\\end{tabular}\n"
      ],
      "text/plain": [
       "\u001b[1m4177×9 DataFrame\u001b[0m\n",
       "\u001b[1m  Row \u001b[0m│\u001b[1m Sex    \u001b[0m\u001b[1m Length  \u001b[0m\u001b[1m Diameter \u001b[0m\u001b[1m Height  \u001b[0m\u001b[1m Whole weight \u001b[0m\u001b[1m Shucked weight \u001b[0m\u001b[1m Visc\u001b[0m ⋯\n",
       "\u001b[1m      \u001b[0m│\u001b[90m String \u001b[0m\u001b[90m Float64 \u001b[0m\u001b[90m Float64  \u001b[0m\u001b[90m Float64 \u001b[0m\u001b[90m Float64      \u001b[0m\u001b[90m Float64        \u001b[0m\u001b[90m Floa\u001b[0m ⋯\n",
       "──────┼─────────────────────────────────────────────────────────────────────────\n",
       "    1 │ M         0.455     0.365    0.095        0.514           0.2245       ⋯\n",
       "    2 │ M         0.35      0.265    0.09         0.2255          0.0995\n",
       "    3 │ F         0.53      0.42     0.135        0.677           0.2565\n",
       "    4 │ M         0.44      0.365    0.125        0.516           0.2155\n",
       "    5 │ I         0.33      0.255    0.08         0.205           0.0895       ⋯\n",
       "    6 │ I         0.425     0.3      0.095        0.3515          0.141\n",
       "    7 │ F         0.53      0.415    0.15         0.7775          0.237\n",
       "    8 │ F         0.545     0.425    0.125        0.768           0.294\n",
       "    9 │ M         0.475     0.37     0.125        0.5095          0.2165       ⋯\n",
       "   10 │ F         0.55      0.44     0.15         0.8945          0.3145\n",
       "   11 │ F         0.525     0.38     0.14         0.6065          0.194\n",
       "  ⋮   │   ⋮        ⋮        ⋮         ⋮          ⋮              ⋮              ⋱\n",
       " 4168 │ M         0.5       0.38     0.125        0.577           0.269\n",
       " 4169 │ F         0.515     0.4      0.125        0.615           0.2865       ⋯\n",
       " 4170 │ M         0.52      0.385    0.165        0.791           0.375\n",
       " 4171 │ M         0.55      0.43     0.13         0.8395          0.3155\n",
       " 4172 │ M         0.56      0.43     0.155        0.8675          0.4\n",
       " 4173 │ F         0.565     0.45     0.165        0.887           0.37         ⋯\n",
       " 4174 │ M         0.59      0.44     0.135        0.966           0.439\n",
       " 4175 │ M         0.6       0.475    0.205        1.176           0.5255\n",
       " 4176 │ F         0.625     0.485    0.15         1.0945          0.531\n",
       " 4177 │ M         0.71      0.555    0.195        1.9485          0.9455       ⋯\n",
       "\u001b[36m                                                 3 columns and 4156 rows omitted\u001b[0m"
      ]
     },
     "execution_count": 45,
     "metadata": {},
     "output_type": "execute_result"
    }
   ],
   "source": [
    "# read in data, include column names\n",
    "abalone = CSV.File(\"data/abalone/abalone.data\", \n",
    "                   header=[\"Sex\", \"Length\", \"Diameter\", \"Height\", \"Whole weight\",\n",
    "                           \"Shucked weight\", \"Viscera weight\", \"Shell weight\", \"Rings\"]) |> DataFrame"
   ]
  },
  {
   "cell_type": "code",
   "execution_count": 46,
   "metadata": {
    "scrolled": true
   },
   "outputs": [
    {
     "data": {
      "text/plain": [
       "1447-element view(::Array{Int64,1}, [1, 7, 8, 10, 11, 13, 16, 21, 23, 26  …  4143, 4144, 4145, 4146, 4148, 4149, 4161, 4162, 4173, 4177]) with eltype Int64:\n",
       " 3\n",
       " 3\n",
       " 3\n",
       " 3\n",
       " 3\n",
       " 3\n",
       " 3\n",
       " 3\n",
       " 3\n",
       " 3\n",
       " 3\n",
       " 3\n",
       " 3\n",
       " ⋮\n",
       " 3\n",
       " 3\n",
       " 3\n",
       " 3\n",
       " 3\n",
       " 3\n",
       " 3\n",
       " 3\n",
       " 3\n",
       " 3\n",
       " 3\n",
       " 3"
      ]
     },
     "execution_count": 46,
     "metadata": {},
     "output_type": "execute_result"
    }
   ],
   "source": [
    "# Bins used in \"   David Clark, Zoltan Schreter, Anthony Adams \"A Quantitative Comparison of\n",
    "#    Dystal and Backpropagation\", submitted to the Australian Conference on\n",
    "#    Neural Networks (ACNN'96). Data set treated as a 3-category classification\n",
    "#    problem (grouping ring classes 1-8, 9 and 10, and 11 on)\n",
    "abalone[:, :ring_bin] = abalone[:, :Rings]\n",
    "abalone[abalone[:, :Rings] .< 9, :ring_bin] .= 1\n",
    "abalone[abalone[:, :Rings] .== 9, :ring_bin] .= 2\n",
    "abalone[abalone[:, :Rings] .== 10, :ring_bin] .= 2\n",
    "abalone[abalone[:, :Rings] .> 10, :ring_bin] .= 3"
   ]
  },
  {
   "cell_type": "code",
   "execution_count": 47,
   "metadata": {
    "scrolled": true
   },
   "outputs": [
    {
     "data": {
      "text/plain": [
       "4177-element Array{Int64,1}:\n",
       " 3\n",
       " 1\n",
       " 2\n",
       " 2\n",
       " 1\n",
       " 1\n",
       " 3\n",
       " 3\n",
       " 2\n",
       " 3\n",
       " 3\n",
       " 2\n",
       " 3\n",
       " ⋮\n",
       " 1\n",
       " 2\n",
       " 2\n",
       " 1\n",
       " 2\n",
       " 2\n",
       " 1\n",
       " 3\n",
       " 2\n",
       " 2\n",
       " 2\n",
       " 3"
      ]
     },
     "execution_count": 47,
     "metadata": {},
     "output_type": "execute_result"
    }
   ],
   "source": [
    "# separate X and Y\n",
    "abalone_X = convert(Array, abalone[:, 1:8])\n",
    "abalone_y = convert(Array, abalone[:, 10])"
   ]
  },
  {
   "cell_type": "code",
   "execution_count": 48,
   "metadata": {},
   "outputs": [
    {
     "data": {
      "text/plain": [
       "1254×10 Array{Float64,2}:\n",
       " 0.0  0.0  1.0  0.43   0.33   0.095  0.34    0.1315  0.085   0.112\n",
       " 1.0  0.0  0.0  0.485  0.375  0.135  0.556   0.1925  0.1315  0.1685\n",
       " 1.0  0.0  0.0  0.71   0.55   0.17   1.614   0.743   0.345   0.45\n",
       " 1.0  0.0  0.0  0.52   0.4    0.12   0.6515  0.261   0.2015  0.165\n",
       " 1.0  0.0  0.0  0.685  0.54   0.215  1.7025  0.664   0.3655  0.4735\n",
       " 1.0  0.0  0.0  0.65   0.545  0.185  1.5055  0.6565  0.341   0.43\n",
       " 0.0  1.0  0.0  0.455  0.345  0.11   0.434   0.207   0.0855  0.1215\n",
       " 0.0  0.0  1.0  0.565  0.44   0.175  0.9025  0.31    0.193   0.325\n",
       " 0.0  1.0  0.0  0.36   0.28   0.105  0.199   0.0695  0.045   0.08\n",
       " 0.0  0.0  1.0  0.535  0.42   0.15   0.6995  0.2575  0.153   0.24\n",
       " 1.0  0.0  0.0  0.5    0.405  0.14   0.6735  0.265   0.124   0.25\n",
       " 0.0  0.0  1.0  0.58   0.455  0.135  0.7955  0.405   0.167   0.204\n",
       " 0.0  0.0  1.0  0.64   0.515  0.08   1.042   0.515   0.1755  0.175\n",
       " ⋮                            ⋮                              \n",
       " 0.0  0.0  1.0  0.425  0.33   0.08   0.361   0.134   0.0825  0.125\n",
       " 0.0  0.0  1.0  0.57   0.455  0.175  1.02    0.4805  0.2145  0.29\n",
       " 1.0  0.0  0.0  0.535  0.405  0.125  0.927   0.26    0.1425  0.345\n",
       " 0.0  0.0  1.0  0.535  0.405  0.14   0.818   0.402   0.1715  0.189\n",
       " 0.0  0.0  1.0  0.545  0.44   0.12   0.8565  0.3475  0.1715  0.24\n",
       " 1.0  0.0  0.0  0.58   0.46   0.18   1.0515  0.4095  0.2595  0.276\n",
       " 1.0  0.0  0.0  0.575  0.425  0.15   0.8765  0.455   0.18    0.228\n",
       " 0.0  1.0  0.0  0.505  0.39   0.15   0.685   0.362   0.131   0.156\n",
       " 1.0  0.0  0.0  0.515  0.4    0.17   0.796   0.258   0.1755  0.28\n",
       " 0.0  1.0  0.0  0.225  0.165  0.055  0.059   0.027   0.0125  0.015\n",
       " 0.0  1.0  0.0  0.37   0.275  0.1    0.2295  0.0885  0.0465  0.07\n",
       " 0.0  0.0  1.0  0.565  0.45   0.16   0.895   0.415   0.195   0.246"
      ]
     },
     "execution_count": 48,
     "metadata": {},
     "output_type": "execute_result"
    }
   ],
   "source": [
    "X_train, X_test, y_train, y_test = train_test_split(abalone_X, abalone_y, test_size=0.3, random_state=5)\n",
    "\n",
    "# Encode the only categorical column \n",
    "ohc = OneHotEncoder()\n",
    "sex_ohc_train = ohc.fit_transform(reshape(X_train[:, 1], :, 1)).toarray()\n",
    "sex_ohc_test = ohc.transform(reshape(X_test[:, 1], :, 1)).toarray()\n",
    "\n",
    "# combine encoded data with the original data\n",
    "X_train_transformed = convert(Array{Float64, 2}, hcat(sex_ohc_train, X_train[:, Not(1)]))\n",
    "X_test_transformed = convert(Array{Float64, 2}, hcat(sex_ohc_test, X_test[:, Not(1)]))"
   ]
  },
  {
   "cell_type": "markdown",
   "metadata": {},
   "source": [
    "### Naive Bayesian Classifier "
   ]
  },
  {
   "cell_type": "code",
   "execution_count": 49,
   "metadata": {
    "scrolled": true
   },
   "outputs": [
    {
     "name": "stdout",
     "output_type": "stream",
     "text": [
      "  0.004615 seconds (24 allocations: 1.250 KiB)\n"
     ]
    },
    {
     "data": {
      "text/plain": [
       "PyObject GaussianNB()"
      ]
     },
     "execution_count": 49,
     "metadata": {},
     "output_type": "execute_result"
    }
   ],
   "source": [
    "# fit model \n",
    "@time begin\n",
    "    gauss_nb = fit!(GaussianNB(), X_train_transformed, y_train)\n",
    "end"
   ]
  },
  {
   "cell_type": "code",
   "execution_count": 50,
   "metadata": {},
   "outputs": [
    {
     "name": "stdout",
     "output_type": "stream",
     "text": [
      "  0.002145 seconds (68 allocations: 13.484 KiB)\n"
     ]
    },
    {
     "data": {
      "text/plain": [
       "0.5717703349282297"
      ]
     },
     "execution_count": 50,
     "metadata": {},
     "output_type": "execute_result"
    }
   ],
   "source": [
    "# make predictions \n",
    "@time begin\n",
    "    gauss_nb_pred = predict(gauss_nb, X_test_transformed)\n",
    "    accuracy_score(y_test, gauss_nb_pred) \n",
    "end"
   ]
  },
  {
   "cell_type": "code",
   "execution_count": 51,
   "metadata": {},
   "outputs": [
    {
     "name": "stdout",
     "output_type": "stream",
     "text": [
      "  0.001448 seconds (24 allocations: 1.250 KiB)\n"
     ]
    },
    {
     "data": {
      "text/plain": [
       "PyObject MultinomialNB()"
      ]
     },
     "execution_count": 51,
     "metadata": {},
     "output_type": "execute_result"
    }
   ],
   "source": [
    "# fit model \n",
    "@time begin\n",
    "    mult_nb = fit!(MultinomialNB(), X_train_transformed, y_train)\n",
    "end"
   ]
  },
  {
   "cell_type": "code",
   "execution_count": 52,
   "metadata": {},
   "outputs": [
    {
     "name": "stdout",
     "output_type": "stream",
     "text": [
      "  0.000625 seconds (68 allocations: 13.484 KiB)\n"
     ]
    },
    {
     "data": {
      "text/plain": [
       "0.5382775119617225"
      ]
     },
     "execution_count": 52,
     "metadata": {},
     "output_type": "execute_result"
    }
   ],
   "source": [
    "# make predictions \n",
    "@time begin\n",
    "    mult_nb_pred = predict(mult_nb, X_test_transformed)\n",
    "    accuracy_score(y_test, mult_nb_pred)\n",
    "end"
   ]
  },
  {
   "cell_type": "markdown",
   "metadata": {},
   "source": [
    "### Decision Tree"
   ]
  },
  {
   "cell_type": "code",
   "execution_count": 53,
   "metadata": {},
   "outputs": [
    {
     "name": "stdout",
     "output_type": "stream",
     "text": [
      "  1.230808 seconds (49.02 k allocations: 113.211 MiB)\n"
     ]
    },
    {
     "data": {
      "text/plain": [
       "PyObject DecisionTreeClassifier(max_depth=7, random_state=5)"
      ]
     },
     "execution_count": 53,
     "metadata": {},
     "output_type": "execute_result"
    }
   ],
   "source": [
    "# CV to find best depth, report results \n",
    "@time begin\n",
    "    scores = []\n",
    "    for i in 1:30\n",
    "        tree = DecisionTreeClassifier(max_depth=i, random_state=5)\n",
    "        result = ScikitLearn.CrossValidation.cross_val_score(tree, X_train_transformed, y_train, cv=5)\n",
    "        append!(scores, mean(result))\n",
    "    end\n",
    "    \n",
    "    best_depth = argmax(scores)\n",
    "    tree = fit!(DecisionTreeClassifier(max_depth=best_depth, random_state=5),\n",
    "                X_train_transformed,\n",
    "                y_train)\n",
    "end"
   ]
  },
  {
   "cell_type": "code",
   "execution_count": 54,
   "metadata": {},
   "outputs": [
    {
     "name": "stdout",
     "output_type": "stream",
     "text": [
      "  0.000541 seconds (68 allocations: 13.484 KiB)\n"
     ]
    },
    {
     "data": {
      "text/plain": [
       "0.6140350877192983"
      ]
     },
     "execution_count": 54,
     "metadata": {},
     "output_type": "execute_result"
    }
   ],
   "source": [
    "# results \n",
    "@time begin\n",
    "    tree_pred = predict(tree, X_test_transformed)\n",
    "    accuracy_score(y_test, tree_pred)\n",
    "end"
   ]
  },
  {
   "cell_type": "markdown",
   "metadata": {},
   "source": [
    "### SVM"
   ]
  },
  {
   "cell_type": "code",
   "execution_count": 55,
   "metadata": {},
   "outputs": [
    {
     "name": "stderr",
     "output_type": "stream",
     "text": [
      "/Users/alec/.julia/conda/3/lib/python3.8/site-packages/sklearn/utils/deprecation.py:101: FutureWarning: Attribute _pairwise was deprecated in version 0.24 and will be removed in 1.1 (renaming of 0.26).\n",
      "  warnings.warn(msg, category=FutureWarning)\n",
      "/Users/alec/.julia/conda/3/lib/python3.8/site-packages/sklearn/utils/deprecation.py:101: FutureWarning: Attribute _pairwise was deprecated in version 0.24 and will be removed in 1.1 (renaming of 0.26).\n",
      "  warnings.warn(msg, category=FutureWarning)\n",
      "/Users/alec/.julia/conda/3/lib/python3.8/site-packages/sklearn/utils/deprecation.py:101: FutureWarning: Attribute _pairwise was deprecated in version 0.24 and will be removed in 1.1 (renaming of 0.26).\n",
      "  warnings.warn(msg, category=FutureWarning)\n",
      "/Users/alec/.julia/conda/3/lib/python3.8/site-packages/sklearn/utils/deprecation.py:101: FutureWarning: Attribute _pairwise was deprecated in version 0.24 and will be removed in 1.1 (renaming of 0.26).\n",
      "  warnings.warn(msg, category=FutureWarning)\n",
      "/Users/alec/.julia/conda/3/lib/python3.8/site-packages/sklearn/utils/deprecation.py:101: FutureWarning: Attribute _pairwise was deprecated in version 0.24 and will be removed in 1.1 (renaming of 0.26).\n",
      "  warnings.warn(msg, category=FutureWarning)\n",
      "/Users/alec/.julia/conda/3/lib/python3.8/site-packages/sklearn/utils/deprecation.py:101: FutureWarning: Attribute _pairwise was deprecated in version 0.24 and will be removed in 1.1 (renaming of 0.26).\n",
      "  warnings.warn(msg, category=FutureWarning)\n",
      "/Users/alec/.julia/conda/3/lib/python3.8/site-packages/sklearn/utils/deprecation.py:101: FutureWarning: Attribute _pairwise was deprecated in version 0.24 and will be removed in 1.1 (renaming of 0.26).\n",
      "  warnings.warn(msg, category=FutureWarning)\n",
      "/Users/alec/.julia/conda/3/lib/python3.8/site-packages/sklearn/utils/deprecation.py:101: FutureWarning: Attribute _pairwise was deprecated in version 0.24 and will be removed in 1.1 (renaming of 0.26).\n",
      "  warnings.warn(msg, category=FutureWarning)\n",
      "/Users/alec/.julia/conda/3/lib/python3.8/site-packages/sklearn/utils/deprecation.py:101: FutureWarning: Attribute _pairwise was deprecated in version 0.24 and will be removed in 1.1 (renaming of 0.26).\n",
      "  warnings.warn(msg, category=FutureWarning)\n",
      "/Users/alec/.julia/conda/3/lib/python3.8/site-packages/sklearn/utils/deprecation.py:101: FutureWarning: Attribute _pairwise was deprecated in version 0.24 and will be removed in 1.1 (renaming of 0.26).\n",
      "  warnings.warn(msg, category=FutureWarning)\n",
      "/Users/alec/.julia/conda/3/lib/python3.8/site-packages/sklearn/utils/deprecation.py:101: FutureWarning: Attribute _pairwise was deprecated in version 0.24 and will be removed in 1.1 (renaming of 0.26).\n",
      "  warnings.warn(msg, category=FutureWarning)\n",
      "/Users/alec/.julia/conda/3/lib/python3.8/site-packages/sklearn/utils/deprecation.py:101: FutureWarning: Attribute _pairwise was deprecated in version 0.24 and will be removed in 1.1 (renaming of 0.26).\n",
      "  warnings.warn(msg, category=FutureWarning)\n",
      "/Users/alec/.julia/conda/3/lib/python3.8/site-packages/sklearn/utils/deprecation.py:101: FutureWarning: Attribute _pairwise was deprecated in version 0.24 and will be removed in 1.1 (renaming of 0.26).\n",
      "  warnings.warn(msg, category=FutureWarning)\n",
      "/Users/alec/.julia/conda/3/lib/python3.8/site-packages/sklearn/utils/deprecation.py:101: FutureWarning: Attribute _pairwise was deprecated in version 0.24 and will be removed in 1.1 (renaming of 0.26).\n",
      "  warnings.warn(msg, category=FutureWarning)\n",
      "/Users/alec/.julia/conda/3/lib/python3.8/site-packages/sklearn/utils/deprecation.py:101: FutureWarning: Attribute _pairwise was deprecated in version 0.24 and will be removed in 1.1 (renaming of 0.26).\n",
      "  warnings.warn(msg, category=FutureWarning)\n",
      "/Users/alec/.julia/conda/3/lib/python3.8/site-packages/sklearn/utils/deprecation.py:101: FutureWarning: Attribute _pairwise was deprecated in version 0.24 and will be removed in 1.1 (renaming of 0.26).\n",
      "  warnings.warn(msg, category=FutureWarning)\n",
      "/Users/alec/.julia/conda/3/lib/python3.8/site-packages/sklearn/utils/deprecation.py:101: FutureWarning: Attribute _pairwise was deprecated in version 0.24 and will be removed in 1.1 (renaming of 0.26).\n",
      "  warnings.warn(msg, category=FutureWarning)\n",
      "/Users/alec/.julia/conda/3/lib/python3.8/site-packages/sklearn/utils/deprecation.py:101: FutureWarning: Attribute _pairwise was deprecated in version 0.24 and will be removed in 1.1 (renaming of 0.26).\n",
      "  warnings.warn(msg, category=FutureWarning)\n",
      "/Users/alec/.julia/conda/3/lib/python3.8/site-packages/sklearn/utils/deprecation.py:101: FutureWarning: Attribute _pairwise was deprecated in version 0.24 and will be removed in 1.1 (renaming of 0.26).\n",
      "  warnings.warn(msg, category=FutureWarning)\n",
      "/Users/alec/.julia/conda/3/lib/python3.8/site-packages/sklearn/utils/deprecation.py:101: FutureWarning: Attribute _pairwise was deprecated in version 0.24 and will be removed in 1.1 (renaming of 0.26).\n",
      "  warnings.warn(msg, category=FutureWarning)\n",
      "/Users/alec/.julia/conda/3/lib/python3.8/site-packages/sklearn/utils/deprecation.py:101: FutureWarning: Attribute _pairwise was deprecated in version 0.24 and will be removed in 1.1 (renaming of 0.26).\n",
      "  warnings.warn(msg, category=FutureWarning)\n",
      "/Users/alec/.julia/conda/3/lib/python3.8/site-packages/sklearn/utils/deprecation.py:101: FutureWarning: Attribute _pairwise was deprecated in version 0.24 and will be removed in 1.1 (renaming of 0.26).\n",
      "  warnings.warn(msg, category=FutureWarning)\n",
      "/Users/alec/.julia/conda/3/lib/python3.8/site-packages/sklearn/utils/deprecation.py:101: FutureWarning: Attribute _pairwise was deprecated in version 0.24 and will be removed in 1.1 (renaming of 0.26).\n",
      "  warnings.warn(msg, category=FutureWarning)\n",
      "/Users/alec/.julia/conda/3/lib/python3.8/site-packages/sklearn/utils/deprecation.py:101: FutureWarning: Attribute _pairwise was deprecated in version 0.24 and will be removed in 1.1 (renaming of 0.26).\n",
      "  warnings.warn(msg, category=FutureWarning)\n",
      "/Users/alec/.julia/conda/3/lib/python3.8/site-packages/sklearn/utils/deprecation.py:101: FutureWarning: Attribute _pairwise was deprecated in version 0.24 and will be removed in 1.1 (renaming of 0.26).\n",
      "  warnings.warn(msg, category=FutureWarning)\n",
      "/Users/alec/.julia/conda/3/lib/python3.8/site-packages/sklearn/utils/deprecation.py:101: FutureWarning: Attribute _pairwise was deprecated in version 0.24 and will be removed in 1.1 (renaming of 0.26).\n",
      "  warnings.warn(msg, category=FutureWarning)\n",
      "/Users/alec/.julia/conda/3/lib/python3.8/site-packages/sklearn/utils/deprecation.py:101: FutureWarning: Attribute _pairwise was deprecated in version 0.24 and will be removed in 1.1 (renaming of 0.26).\n",
      "  warnings.warn(msg, category=FutureWarning)\n",
      "/Users/alec/.julia/conda/3/lib/python3.8/site-packages/sklearn/utils/deprecation.py:101: FutureWarning: Attribute _pairwise was deprecated in version 0.24 and will be removed in 1.1 (renaming of 0.26).\n",
      "  warnings.warn(msg, category=FutureWarning)\n",
      "/Users/alec/.julia/conda/3/lib/python3.8/site-packages/sklearn/utils/deprecation.py:101: FutureWarning: Attribute _pairwise was deprecated in version 0.24 and will be removed in 1.1 (renaming of 0.26).\n",
      "  warnings.warn(msg, category=FutureWarning)\n",
      "/Users/alec/.julia/conda/3/lib/python3.8/site-packages/sklearn/utils/deprecation.py:101: FutureWarning: Attribute _pairwise was deprecated in version 0.24 and will be removed in 1.1 (renaming of 0.26).\n",
      "  warnings.warn(msg, category=FutureWarning)\n",
      "/Users/alec/.julia/conda/3/lib/python3.8/site-packages/sklearn/utils/deprecation.py:101: FutureWarning: Attribute _pairwise was deprecated in version 0.24 and will be removed in 1.1 (renaming of 0.26).\n",
      "  warnings.warn(msg, category=FutureWarning)\n",
      "/Users/alec/.julia/conda/3/lib/python3.8/site-packages/sklearn/utils/deprecation.py:101: FutureWarning: Attribute _pairwise was deprecated in version 0.24 and will be removed in 1.1 (renaming of 0.26).\n",
      "  warnings.warn(msg, category=FutureWarning)\n",
      "/Users/alec/.julia/conda/3/lib/python3.8/site-packages/sklearn/utils/deprecation.py:101: FutureWarning: Attribute _pairwise was deprecated in version 0.24 and will be removed in 1.1 (renaming of 0.26).\n",
      "  warnings.warn(msg, category=FutureWarning)\n",
      "/Users/alec/.julia/conda/3/lib/python3.8/site-packages/sklearn/utils/deprecation.py:101: FutureWarning: Attribute _pairwise was deprecated in version 0.24 and will be removed in 1.1 (renaming of 0.26).\n",
      "  warnings.warn(msg, category=FutureWarning)\n",
      "/Users/alec/.julia/conda/3/lib/python3.8/site-packages/sklearn/utils/deprecation.py:101: FutureWarning: Attribute _pairwise was deprecated in version 0.24 and will be removed in 1.1 (renaming of 0.26).\n",
      "  warnings.warn(msg, category=FutureWarning)\n",
      "/Users/alec/.julia/conda/3/lib/python3.8/site-packages/sklearn/utils/deprecation.py:101: FutureWarning: Attribute _pairwise was deprecated in version 0.24 and will be removed in 1.1 (renaming of 0.26).\n",
      "  warnings.warn(msg, category=FutureWarning)\n",
      "/Users/alec/.julia/conda/3/lib/python3.8/site-packages/sklearn/utils/deprecation.py:101: FutureWarning: Attribute _pairwise was deprecated in version 0.24 and will be removed in 1.1 (renaming of 0.26).\n",
      "  warnings.warn(msg, category=FutureWarning)\n",
      "/Users/alec/.julia/conda/3/lib/python3.8/site-packages/sklearn/utils/deprecation.py:101: FutureWarning: Attribute _pairwise was deprecated in version 0.24 and will be removed in 1.1 (renaming of 0.26).\n",
      "  warnings.warn(msg, category=FutureWarning)\n",
      "/Users/alec/.julia/conda/3/lib/python3.8/site-packages/sklearn/utils/deprecation.py:101: FutureWarning: Attribute _pairwise was deprecated in version 0.24 and will be removed in 1.1 (renaming of 0.26).\n",
      "  warnings.warn(msg, category=FutureWarning)\n",
      "/Users/alec/.julia/conda/3/lib/python3.8/site-packages/sklearn/utils/deprecation.py:101: FutureWarning: Attribute _pairwise was deprecated in version 0.24 and will be removed in 1.1 (renaming of 0.26).\n",
      "  warnings.warn(msg, category=FutureWarning)\n",
      "/Users/alec/.julia/conda/3/lib/python3.8/site-packages/sklearn/utils/deprecation.py:101: FutureWarning: Attribute _pairwise was deprecated in version 0.24 and will be removed in 1.1 (renaming of 0.26).\n",
      "  warnings.warn(msg, category=FutureWarning)\n",
      "/Users/alec/.julia/conda/3/lib/python3.8/site-packages/sklearn/utils/deprecation.py:101: FutureWarning: Attribute _pairwise was deprecated in version 0.24 and will be removed in 1.1 (renaming of 0.26).\n",
      "  warnings.warn(msg, category=FutureWarning)\n",
      "/Users/alec/.julia/conda/3/lib/python3.8/site-packages/sklearn/utils/deprecation.py:101: FutureWarning: Attribute _pairwise was deprecated in version 0.24 and will be removed in 1.1 (renaming of 0.26).\n",
      "  warnings.warn(msg, category=FutureWarning)\n",
      "/Users/alec/.julia/conda/3/lib/python3.8/site-packages/sklearn/neural_network/_multilayer_perceptron.py:614: ConvergenceWarning: Stochastic Optimizer: Maximum iterations (200) reached and the optimization hasn't converged yet.\n",
      "  warnings.warn(\n",
      "/Users/alec/.julia/conda/3/lib/python3.8/site-packages/sklearn/neural_network/_multilayer_perceptron.py:614: ConvergenceWarning: Stochastic Optimizer: Maximum iterations (200) reached and the optimization hasn't converged yet.\n",
      "  warnings.warn(\n",
      "/Users/alec/.julia/conda/3/lib/python3.8/site-packages/sklearn/neural_network/_multilayer_perceptron.py:614: ConvergenceWarning: Stochastic Optimizer: Maximum iterations (200) reached and the optimization hasn't converged yet.\n",
      "  warnings.warn(\n",
      "/Users/alec/.julia/conda/3/lib/python3.8/site-packages/sklearn/neural_network/_multilayer_perceptron.py:614: ConvergenceWarning: Stochastic Optimizer: Maximum iterations (200) reached and the optimization hasn't converged yet.\n",
      "  warnings.warn(\n",
      "/Users/alec/.julia/conda/3/lib/python3.8/site-packages/sklearn/neural_network/_multilayer_perceptron.py:614: ConvergenceWarning: Stochastic Optimizer: Maximum iterations (200) reached and the optimization hasn't converged yet.\n",
      "  warnings.warn(\n",
      "/Users/alec/.julia/conda/3/lib/python3.8/site-packages/sklearn/neural_network/_multilayer_perceptron.py:614: ConvergenceWarning: Stochastic Optimizer: Maximum iterations (200) reached and the optimization hasn't converged yet.\n",
      "  warnings.warn(\n",
      "/Users/alec/.julia/conda/3/lib/python3.8/site-packages/sklearn/neural_network/_multilayer_perceptron.py:614: ConvergenceWarning: Stochastic Optimizer: Maximum iterations (200) reached and the optimization hasn't converged yet.\n",
      "  warnings.warn(\n",
      "/Users/alec/.julia/conda/3/lib/python3.8/site-packages/sklearn/neural_network/_multilayer_perceptron.py:614: ConvergenceWarning: Stochastic Optimizer: Maximum iterations (200) reached and the optimization hasn't converged yet.\n",
      "  warnings.warn(\n",
      "/Users/alec/.julia/conda/3/lib/python3.8/site-packages/sklearn/neural_network/_multilayer_perceptron.py:614: ConvergenceWarning: Stochastic Optimizer: Maximum iterations (200) reached and the optimization hasn't converged yet.\n",
      "  warnings.warn(\n",
      "/Users/alec/.julia/conda/3/lib/python3.8/site-packages/sklearn/neural_network/_multilayer_perceptron.py:614: ConvergenceWarning: Stochastic Optimizer: Maximum iterations (200) reached and the optimization hasn't converged yet.\n",
      "  warnings.warn(\n",
      "/Users/alec/.julia/conda/3/lib/python3.8/site-packages/sklearn/utils/deprecation.py:101: FutureWarning: Attribute _pairwise was deprecated in version 0.24 and will be removed in 1.1 (renaming of 0.26).\n",
      "  warnings.warn(msg, category=FutureWarning)\n",
      "/Users/alec/.julia/conda/3/lib/python3.8/site-packages/sklearn/utils/deprecation.py:101: FutureWarning: Attribute _pairwise was deprecated in version 0.24 and will be removed in 1.1 (renaming of 0.26).\n",
      "  warnings.warn(msg, category=FutureWarning)\n",
      "/Users/alec/.julia/conda/3/lib/python3.8/site-packages/sklearn/utils/deprecation.py:101: FutureWarning: Attribute _pairwise was deprecated in version 0.24 and will be removed in 1.1 (renaming of 0.26).\n",
      "  warnings.warn(msg, category=FutureWarning)\n",
      "/Users/alec/.julia/conda/3/lib/python3.8/site-packages/sklearn/utils/deprecation.py:101: FutureWarning: Attribute _pairwise was deprecated in version 0.24 and will be removed in 1.1 (renaming of 0.26).\n",
      "  warnings.warn(msg, category=FutureWarning)\n",
      "/Users/alec/.julia/conda/3/lib/python3.8/site-packages/sklearn/utils/deprecation.py:101: FutureWarning: Attribute _pairwise was deprecated in version 0.24 and will be removed in 1.1 (renaming of 0.26).\n",
      "  warnings.warn(msg, category=FutureWarning)\n",
      "/Users/alec/.julia/conda/3/lib/python3.8/site-packages/sklearn/utils/deprecation.py:101: FutureWarning: Attribute _pairwise was deprecated in version 0.24 and will be removed in 1.1 (renaming of 0.26).\n",
      "  warnings.warn(msg, category=FutureWarning)\n",
      "/Users/alec/.julia/conda/3/lib/python3.8/site-packages/sklearn/utils/deprecation.py:101: FutureWarning: Attribute _pairwise was deprecated in version 0.24 and will be removed in 1.1 (renaming of 0.26).\n",
      "  warnings.warn(msg, category=FutureWarning)\n",
      "/Users/alec/.julia/conda/3/lib/python3.8/site-packages/sklearn/utils/deprecation.py:101: FutureWarning: Attribute _pairwise was deprecated in version 0.24 and will be removed in 1.1 (renaming of 0.26).\n",
      "  warnings.warn(msg, category=FutureWarning)\n",
      "/Users/alec/.julia/conda/3/lib/python3.8/site-packages/sklearn/utils/deprecation.py:101: FutureWarning: Attribute _pairwise was deprecated in version 0.24 and will be removed in 1.1 (renaming of 0.26).\n",
      "  warnings.warn(msg, category=FutureWarning)\n",
      "/Users/alec/.julia/conda/3/lib/python3.8/site-packages/sklearn/utils/deprecation.py:101: FutureWarning: Attribute _pairwise was deprecated in version 0.24 and will be removed in 1.1 (renaming of 0.26).\n",
      "  warnings.warn(msg, category=FutureWarning)\n",
      "/Users/alec/.julia/conda/3/lib/python3.8/site-packages/sklearn/utils/deprecation.py:101: FutureWarning: Attribute _pairwise was deprecated in version 0.24 and will be removed in 1.1 (renaming of 0.26).\n",
      "  warnings.warn(msg, category=FutureWarning)\n",
      "/Users/alec/.julia/conda/3/lib/python3.8/site-packages/sklearn/utils/deprecation.py:101: FutureWarning: Attribute _pairwise was deprecated in version 0.24 and will be removed in 1.1 (renaming of 0.26).\n",
      "  warnings.warn(msg, category=FutureWarning)\n",
      "/Users/alec/.julia/conda/3/lib/python3.8/site-packages/sklearn/utils/deprecation.py:101: FutureWarning: Attribute _pairwise was deprecated in version 0.24 and will be removed in 1.1 (renaming of 0.26).\n",
      "  warnings.warn(msg, category=FutureWarning)\n",
      "/Users/alec/.julia/conda/3/lib/python3.8/site-packages/sklearn/utils/deprecation.py:101: FutureWarning: Attribute _pairwise was deprecated in version 0.24 and will be removed in 1.1 (renaming of 0.26).\n",
      "  warnings.warn(msg, category=FutureWarning)\n",
      "/Users/alec/.julia/conda/3/lib/python3.8/site-packages/sklearn/utils/deprecation.py:101: FutureWarning: Attribute _pairwise was deprecated in version 0.24 and will be removed in 1.1 (renaming of 0.26).\n",
      "  warnings.warn(msg, category=FutureWarning)\n",
      "/Users/alec/.julia/conda/3/lib/python3.8/site-packages/sklearn/utils/deprecation.py:101: FutureWarning: Attribute _pairwise was deprecated in version 0.24 and will be removed in 1.1 (renaming of 0.26).\n",
      "  warnings.warn(msg, category=FutureWarning)\n",
      "/Users/alec/.julia/conda/3/lib/python3.8/site-packages/sklearn/utils/deprecation.py:101: FutureWarning: Attribute _pairwise was deprecated in version 0.24 and will be removed in 1.1 (renaming of 0.26).\n",
      "  warnings.warn(msg, category=FutureWarning)\n",
      "/Users/alec/.julia/conda/3/lib/python3.8/site-packages/sklearn/utils/deprecation.py:101: FutureWarning: Attribute _pairwise was deprecated in version 0.24 and will be removed in 1.1 (renaming of 0.26).\n",
      "  warnings.warn(msg, category=FutureWarning)\n",
      "/Users/alec/.julia/conda/3/lib/python3.8/site-packages/sklearn/utils/deprecation.py:101: FutureWarning: Attribute _pairwise was deprecated in version 0.24 and will be removed in 1.1 (renaming of 0.26).\n",
      "  warnings.warn(msg, category=FutureWarning)\n",
      "/Users/alec/.julia/conda/3/lib/python3.8/site-packages/sklearn/utils/deprecation.py:101: FutureWarning: Attribute _pairwise was deprecated in version 0.24 and will be removed in 1.1 (renaming of 0.26).\n",
      "  warnings.warn(msg, category=FutureWarning)\n",
      "/Users/alec/.julia/conda/3/lib/python3.8/site-packages/sklearn/utils/deprecation.py:101: FutureWarning: Attribute _pairwise was deprecated in version 0.24 and will be removed in 1.1 (renaming of 0.26).\n",
      "  warnings.warn(msg, category=FutureWarning)\n",
      "/Users/alec/.julia/conda/3/lib/python3.8/site-packages/sklearn/utils/deprecation.py:101: FutureWarning: Attribute _pairwise was deprecated in version 0.24 and will be removed in 1.1 (renaming of 0.26).\n",
      "  warnings.warn(msg, category=FutureWarning)\n",
      "/Users/alec/.julia/conda/3/lib/python3.8/site-packages/sklearn/utils/deprecation.py:101: FutureWarning: Attribute _pairwise was deprecated in version 0.24 and will be removed in 1.1 (renaming of 0.26).\n",
      "  warnings.warn(msg, category=FutureWarning)\n",
      "/Users/alec/.julia/conda/3/lib/python3.8/site-packages/sklearn/utils/deprecation.py:101: FutureWarning: Attribute _pairwise was deprecated in version 0.24 and will be removed in 1.1 (renaming of 0.26).\n",
      "  warnings.warn(msg, category=FutureWarning)\n",
      "/Users/alec/.julia/conda/3/lib/python3.8/site-packages/sklearn/utils/deprecation.py:101: FutureWarning: Attribute _pairwise was deprecated in version 0.24 and will be removed in 1.1 (renaming of 0.26).\n",
      "  warnings.warn(msg, category=FutureWarning)\n",
      "/Users/alec/.julia/conda/3/lib/python3.8/site-packages/sklearn/utils/deprecation.py:101: FutureWarning: Attribute _pairwise was deprecated in version 0.24 and will be removed in 1.1 (renaming of 0.26).\n",
      "  warnings.warn(msg, category=FutureWarning)\n",
      "/Users/alec/.julia/conda/3/lib/python3.8/site-packages/sklearn/utils/deprecation.py:101: FutureWarning: Attribute _pairwise was deprecated in version 0.24 and will be removed in 1.1 (renaming of 0.26).\n",
      "  warnings.warn(msg, category=FutureWarning)\n",
      "/Users/alec/.julia/conda/3/lib/python3.8/site-packages/sklearn/utils/deprecation.py:101: FutureWarning: Attribute _pairwise was deprecated in version 0.24 and will be removed in 1.1 (renaming of 0.26).\n",
      "  warnings.warn(msg, category=FutureWarning)\n",
      "/Users/alec/.julia/conda/3/lib/python3.8/site-packages/sklearn/utils/deprecation.py:101: FutureWarning: Attribute _pairwise was deprecated in version 0.24 and will be removed in 1.1 (renaming of 0.26).\n",
      "  warnings.warn(msg, category=FutureWarning)\n",
      "/Users/alec/.julia/conda/3/lib/python3.8/site-packages/sklearn/utils/deprecation.py:101: FutureWarning: Attribute _pairwise was deprecated in version 0.24 and will be removed in 1.1 (renaming of 0.26).\n",
      "  warnings.warn(msg, category=FutureWarning)\n",
      "/Users/alec/.julia/conda/3/lib/python3.8/site-packages/sklearn/utils/deprecation.py:101: FutureWarning: Attribute _pairwise was deprecated in version 0.24 and will be removed in 1.1 (renaming of 0.26).\n",
      "  warnings.warn(msg, category=FutureWarning)\n",
      "/Users/alec/.julia/conda/3/lib/python3.8/site-packages/sklearn/utils/deprecation.py:101: FutureWarning: Attribute _pairwise was deprecated in version 0.24 and will be removed in 1.1 (renaming of 0.26).\n",
      "  warnings.warn(msg, category=FutureWarning)\n",
      "/Users/alec/.julia/conda/3/lib/python3.8/site-packages/sklearn/utils/deprecation.py:101: FutureWarning: Attribute _pairwise was deprecated in version 0.24 and will be removed in 1.1 (renaming of 0.26).\n",
      "  warnings.warn(msg, category=FutureWarning)\n",
      "/Users/alec/.julia/conda/3/lib/python3.8/site-packages/sklearn/utils/deprecation.py:101: FutureWarning: Attribute _pairwise was deprecated in version 0.24 and will be removed in 1.1 (renaming of 0.26).\n",
      "  warnings.warn(msg, category=FutureWarning)\n",
      "/Users/alec/.julia/conda/3/lib/python3.8/site-packages/sklearn/utils/deprecation.py:101: FutureWarning: Attribute _pairwise was deprecated in version 0.24 and will be removed in 1.1 (renaming of 0.26).\n",
      "  warnings.warn(msg, category=FutureWarning)\n",
      "/Users/alec/.julia/conda/3/lib/python3.8/site-packages/sklearn/utils/deprecation.py:101: FutureWarning: Attribute _pairwise was deprecated in version 0.24 and will be removed in 1.1 (renaming of 0.26).\n",
      "  warnings.warn(msg, category=FutureWarning)\n",
      "/Users/alec/.julia/conda/3/lib/python3.8/site-packages/sklearn/utils/deprecation.py:101: FutureWarning: Attribute _pairwise was deprecated in version 0.24 and will be removed in 1.1 (renaming of 0.26).\n",
      "  warnings.warn(msg, category=FutureWarning)\n",
      "/Users/alec/.julia/conda/3/lib/python3.8/site-packages/sklearn/utils/deprecation.py:101: FutureWarning: Attribute _pairwise was deprecated in version 0.24 and will be removed in 1.1 (renaming of 0.26).\n",
      "  warnings.warn(msg, category=FutureWarning)\n",
      "/Users/alec/.julia/conda/3/lib/python3.8/site-packages/sklearn/utils/deprecation.py:101: FutureWarning: Attribute _pairwise was deprecated in version 0.24 and will be removed in 1.1 (renaming of 0.26).\n",
      "  warnings.warn(msg, category=FutureWarning)\n",
      "/Users/alec/.julia/conda/3/lib/python3.8/site-packages/sklearn/utils/deprecation.py:101: FutureWarning: Attribute _pairwise was deprecated in version 0.24 and will be removed in 1.1 (renaming of 0.26).\n",
      "  warnings.warn(msg, category=FutureWarning)\n",
      "/Users/alec/.julia/conda/3/lib/python3.8/site-packages/sklearn/utils/deprecation.py:101: FutureWarning: Attribute _pairwise was deprecated in version 0.24 and will be removed in 1.1 (renaming of 0.26).\n",
      "  warnings.warn(msg, category=FutureWarning)\n",
      "/Users/alec/.julia/conda/3/lib/python3.8/site-packages/sklearn/utils/deprecation.py:101: FutureWarning: Attribute _pairwise was deprecated in version 0.24 and will be removed in 1.1 (renaming of 0.26).\n",
      "  warnings.warn(msg, category=FutureWarning)\n",
      "/Users/alec/.julia/conda/3/lib/python3.8/site-packages/sklearn/utils/deprecation.py:101: FutureWarning: Attribute _pairwise was deprecated in version 0.24 and will be removed in 1.1 (renaming of 0.26).\n",
      "  warnings.warn(msg, category=FutureWarning)\n",
      "/Users/alec/.julia/conda/3/lib/python3.8/site-packages/sklearn/utils/deprecation.py:101: FutureWarning: Attribute _pairwise was deprecated in version 0.24 and will be removed in 1.1 (renaming of 0.26).\n",
      "  warnings.warn(msg, category=FutureWarning)\n",
      "/Users/alec/.julia/conda/3/lib/python3.8/site-packages/sklearn/utils/deprecation.py:101: FutureWarning: Attribute _pairwise was deprecated in version 0.24 and will be removed in 1.1 (renaming of 0.26).\n",
      "  warnings.warn(msg, category=FutureWarning)\n",
      "/Users/alec/.julia/conda/3/lib/python3.8/site-packages/sklearn/utils/deprecation.py:101: FutureWarning: Attribute _pairwise was deprecated in version 0.24 and will be removed in 1.1 (renaming of 0.26).\n",
      "  warnings.warn(msg, category=FutureWarning)\n",
      "/Users/alec/.julia/conda/3/lib/python3.8/site-packages/sklearn/utils/deprecation.py:101: FutureWarning: Attribute _pairwise was deprecated in version 0.24 and will be removed in 1.1 (renaming of 0.26).\n",
      "  warnings.warn(msg, category=FutureWarning)\n",
      "/Users/alec/.julia/conda/3/lib/python3.8/site-packages/sklearn/utils/deprecation.py:101: FutureWarning: Attribute _pairwise was deprecated in version 0.24 and will be removed in 1.1 (renaming of 0.26).\n",
      "  warnings.warn(msg, category=FutureWarning)\n",
      "/Users/alec/.julia/conda/3/lib/python3.8/site-packages/sklearn/utils/deprecation.py:101: FutureWarning: Attribute _pairwise was deprecated in version 0.24 and will be removed in 1.1 (renaming of 0.26).\n",
      "  warnings.warn(msg, category=FutureWarning)\n"
     ]
    },
    {
     "name": "stdout",
     "output_type": "stream",
     "text": [
      " 21.874784 seconds (18.72 k allocations: 28.025 MiB)\n"
     ]
    },
    {
     "data": {
      "text/plain": [
       "ScikitLearn.Skcore.GridSearchCV\n",
       "  estimator: PyCall.PyObject\n",
       "  param_grid: Dict{String,Array{T,1} where T}\n",
       "  scoring: Nothing nothing\n",
       "  loss_func: Nothing nothing\n",
       "  score_func: Nothing nothing\n",
       "  fit_params: Dict{Any,Any}\n",
       "  n_jobs: Int64 1\n",
       "  iid: Bool true\n",
       "  refit: Bool true\n",
       "  cv: Int64 5\n",
       "  verbose: Int64 0\n",
       "  error_score: String \"raise\"\n",
       "  scorer_: score (function of type typeof(score))\n",
       "  best_params_: Dict{Symbol,Any}\n",
       "  best_score_: Float64 0.6684912760862128\n",
       "  grid_scores_: Array{ScikitLearn.Skcore.CVScoreTuple}((20,))\n",
       "  best_estimator_: PyCall.PyObject\n"
      ]
     },
     "execution_count": 55,
     "metadata": {},
     "output_type": "execute_result"
    }
   ],
   "source": [
    "# CV to perform grid search on params, report results \n",
    "# FutureWarning is due to the Sklean Julia implementation being outdated\n",
    "\n",
    "@time begin\n",
    "    param_grid = Dict(\"kernel\" => [\"linear\", \"poly\", \"rbf\", \"sigmoid\"],\n",
    "                      \"C\" => [0.01, 0.1, 1, 10, 100])\n",
    "    svc = SVC(random_state=5)\n",
    "    grid_cv = ScikitLearn.GridSearch.GridSearchCV(svc, param_grid, cv=5)\n",
    "    fit!(grid_cv, X_train_transformed, y_train)\n",
    "end"
   ]
  },
  {
   "cell_type": "code",
   "execution_count": 56,
   "metadata": {},
   "outputs": [
    {
     "name": "stdout",
     "output_type": "stream",
     "text": [
      "  0.208962 seconds (68 allocations: 13.484 KiB)\n"
     ]
    },
    {
     "data": {
      "text/plain": [
       "0.6562998405103668"
      ]
     },
     "execution_count": 56,
     "metadata": {},
     "output_type": "execute_result"
    }
   ],
   "source": [
    "# results \n",
    "@time begin\n",
    "    svc_pred = predict(grid_cv, X_test_transformed)\n",
    "    accuracy_score(y_test, svc_pred)\n",
    "end"
   ]
  },
  {
   "cell_type": "markdown",
   "metadata": {},
   "source": [
    "### MLP"
   ]
  },
  {
   "cell_type": "code",
   "execution_count": 57,
   "metadata": {},
   "outputs": [
    {
     "name": "stdout",
     "output_type": "stream",
     "text": [
      " 33.430659 seconds (2.08 k allocations: 265.531 KiB)\n"
     ]
    },
    {
     "data": {
      "text/plain": [
       "0.6562998405103668"
      ]
     },
     "execution_count": 57,
     "metadata": {},
     "output_type": "execute_result"
    }
   ],
   "source": [
    "@time begin\n",
    "    activations = [\"identity\", \"logistic\", \"tanh\", \"relu\"]\n",
    "    sizes = [30, 100, 500, 1000]\n",
    "    scores = []\n",
    "    for a in activations\n",
    "        for s in sizes\n",
    "            mlp = MLPClassifier(hidden_layer_sizes=(s), activation=a)\n",
    "            fit!(mlp, X_train_transformed, y_train)\n",
    "            mlp_pred = predict(mlp, X_test_transformed)\n",
    "            append!(scores, accuracy_score(mlp_pred, y_test))\n",
    "            end\n",
    "    end\n",
    "    maximum(scores)\n",
    "end"
   ]
  },
  {
   "cell_type": "markdown",
   "metadata": {},
   "source": [
    "## MADELON\n",
    "\n",
    "### Preprocessing"
   ]
  },
  {
   "cell_type": "code",
   "execution_count": 58,
   "metadata": {},
   "outputs": [
    {
     "data": {
      "text/plain": [
       "600-element Array{Int64,1}:\n",
       " -1\n",
       " -1\n",
       " -1\n",
       "  1\n",
       " -1\n",
       "  1\n",
       " -1\n",
       " -1\n",
       " -1\n",
       "  1\n",
       "  1\n",
       "  1\n",
       " -1\n",
       "  ⋮\n",
       "  1\n",
       " -1\n",
       " -1\n",
       "  1\n",
       " -1\n",
       " -1\n",
       "  1\n",
       "  1\n",
       "  1\n",
       "  1\n",
       "  1\n",
       " -1"
      ]
     },
     "execution_count": 58,
     "metadata": {},
     "output_type": "execute_result"
    }
   ],
   "source": [
    "# No encoding or splitting needed, just read in required files\n",
    "madelon_X_train = CSV.File(\"data/madelon/madelon_train.data\", header=0, delim=' ')|> DataFrame\n",
    "madelon_X_test = CSV.File(\"data/madelon/madelon_valid.data\", header=0, delim=' ')|> DataFrame\n",
    "madelon_y_train = CSV.File(\"data/madelon/madelon_train.labels\", header=0, delim=' ')|> DataFrame\n",
    "madelon_y_test = CSV.File(\"data/madelon/madelon_valid.labels\", header=0, delim=' ')|> DataFrame\n",
    "\n",
    "madelon_X_train = convert(Array, madelon_X_train[:, 1:500])\n",
    "madelon_X_test = convert(Array, madelon_X_test[:, 1:500])\n",
    "madelon_y_train = convert(Array, madelon_y_train)[:, 1]\n",
    "madelon_y_test = convert(Array, madelon_y_test)[:, 1]"
   ]
  },
  {
   "cell_type": "markdown",
   "metadata": {},
   "source": [
    "## Model Creation \n",
    "\n",
    "### Naive Bayesian Classifier"
   ]
  },
  {
   "cell_type": "code",
   "execution_count": 59,
   "metadata": {},
   "outputs": [
    {
     "name": "stdout",
     "output_type": "stream",
     "text": [
      "  0.006545 seconds (24 allocations: 1.250 KiB)\n"
     ]
    },
    {
     "data": {
      "text/plain": [
       "PyObject GaussianNB()"
      ]
     },
     "execution_count": 59,
     "metadata": {},
     "output_type": "execute_result"
    }
   ],
   "source": [
    "# fit model \n",
    "@time begin\n",
    "    gauss_nb = fit!(GaussianNB(), madelon_X_train, madelon_y_train)\n",
    "end"
   ]
  },
  {
   "cell_type": "code",
   "execution_count": 60,
   "metadata": {},
   "outputs": [
    {
     "name": "stdout",
     "output_type": "stream",
     "text": [
      "0.5916666666666667\n",
      "  0.002393 seconds (105 allocations: 9.516 KiB)\n"
     ]
    }
   ],
   "source": [
    "# make predictions\n",
    "@time begin\n",
    "    gauss_nb_pred = predict(gauss_nb, madelon_X_test)\n",
    "    println(accuracy_score(madelon_y_test, gauss_nb_pred))\n",
    "end"
   ]
  },
  {
   "cell_type": "code",
   "execution_count": 61,
   "metadata": {},
   "outputs": [],
   "source": [
    "using Random: shuffle"
   ]
  },
  {
   "cell_type": "code",
   "execution_count": 62,
   "metadata": {
    "scrolled": true
   },
   "outputs": [
    {
     "name": "stdout",
     "output_type": "stream",
     "text": [
      "0.5716666666666667\n",
      "0.535\n",
      "0.5816666666666667\n",
      "0.53\n",
      "0.54\n",
      "0.57\n",
      "0.5183333333333333\n",
      "0.6233333333333333\n",
      "0.57\n",
      "0.5416666666666666\n",
      "0.5833333333333334\n",
      "0.575\n",
      "0.49666666666666665\n",
      "0.5766666666666667\n",
      "0.5783333333333334\n",
      "0.5416666666666666\n",
      "0.5616666666666666\n",
      "0.555\n",
      "0.5983333333333334\n",
      "0.53\n",
      "0.5383333333333333\n",
      "0.5533333333333333\n",
      "0.6033333333333334\n",
      "0.545\n",
      "0.5733333333333334\n",
      "0.54\n",
      "0.5316666666666666\n",
      "0.5433333333333333\n",
      "0.525\n",
      "0.57\n",
      "0.5633333333333334\n",
      "0.575\n",
      "0.5866666666666667\n",
      "0.5816666666666667\n",
      "0.5516666666666666\n",
      "0.5233333333333333\n",
      "0.5266666666666666\n",
      "0.6083333333333333\n",
      "0.555\n",
      "0.5716666666666667\n",
      "0.5833333333333334\n",
      "0.5133333333333333\n",
      "0.5916666666666667\n",
      "0.545\n",
      "0.6083333333333333\n",
      "0.5783333333333334\n",
      "0.5716666666666667\n",
      "0.5383333333333333\n",
      "0.56\n",
      "0.5583333333333333\n",
      "0.59\n",
      "0.525\n",
      "0.5566666666666666\n",
      "0.615\n",
      "0.5583333333333333\n",
      "0.5816666666666667\n",
      "0.5733333333333334\n",
      "0.555\n",
      "0.5433333333333333\n",
      "0.59\n",
      "0.5733333333333334\n",
      "0.5683333333333334\n",
      "0.5966666666666667\n",
      "0.515\n",
      "0.5816666666666667\n",
      "0.6\n",
      "0.6116666666666667\n",
      "0.5466666666666666\n",
      "0.55\n",
      "0.5566666666666666\n",
      "0.525\n",
      "0.6083333333333333\n",
      "0.52\n",
      "0.5516666666666666\n",
      "0.5566666666666666\n",
      "0.6133333333333333\n",
      "0.61\n",
      "0.565\n",
      "0.62\n",
      "0.565\n",
      "0.5816666666666667\n",
      "0.5633333333333334\n",
      "0.56\n",
      "0.545\n",
      "0.5466666666666666\n",
      "0.615\n",
      "0.5716666666666667\n",
      "0.55\n",
      "0.5166666666666667\n",
      "0.6\n",
      "0.48333333333333334\n",
      "0.5316666666666666\n",
      "0.5966666666666667\n",
      "0.5466666666666666\n",
      "0.5333333333333333\n",
      "0.53\n",
      "0.585\n",
      "0.585\n",
      "0.5783333333333334\n",
      "0.5566666666666666\n",
      "  0.236216 seconds (13.66 k allocations: 199.939 MiB)\n"
     ]
    }
   ],
   "source": [
    "@time begin\n",
    "    for i in 1:100 \n",
    "        feature_idx = shuffle(1:500)[1:100]\n",
    "        gauss_nb = fit!(GaussianNB(), madelon_X_train[:, feature_idx], madelon_y_train)\n",
    "        gauss_nb_pred = predict(gauss_nb, madelon_X_test[:, feature_idx])\n",
    "        println(accuracy_score(madelon_y_test, gauss_nb_pred))\n",
    "    end\n",
    "end"
   ]
  },
  {
   "cell_type": "markdown",
   "metadata": {},
   "source": [
    "### Decision Tree"
   ]
  },
  {
   "cell_type": "code",
   "execution_count": 63,
   "metadata": {},
   "outputs": [
    {
     "name": "stdout",
     "output_type": "stream",
     "text": [
      " 37.965081 seconds (38.66 k allocations: 1.166 GiB, 1.15% gc time)\n"
     ]
    },
    {
     "data": {
      "text/plain": [
       "PyObject DecisionTreeClassifier(max_depth=5, random_state=5)"
      ]
     },
     "execution_count": 63,
     "metadata": {},
     "output_type": "execute_result"
    }
   ],
   "source": [
    "# CV to find best depth, report results\n",
    "@time begin\n",
    "    scores = []\n",
    "    for i in 1:30\n",
    "        tree = DecisionTreeClassifier(max_depth=i, random_state=5)\n",
    "        result = ScikitLearn.CrossValidation.cross_val_score(tree, madelon_X_train, madelon_y_train, cv=5)\n",
    "        append!(scores, mean(result))\n",
    "    end\n",
    "    best_depth = argmax(scores)\n",
    "    tree = fit!(DecisionTreeClassifier(max_depth=best_depth, random_state=5),\n",
    "                madelon_X_train,\n",
    "                madelon_y_train)\n",
    "end"
   ]
  },
  {
   "cell_type": "code",
   "execution_count": 64,
   "metadata": {},
   "outputs": [
    {
     "name": "stdout",
     "output_type": "stream",
     "text": [
      "  0.001525 seconds (68 allocations: 8.359 KiB)\n"
     ]
    },
    {
     "data": {
      "text/plain": [
       "0.795"
      ]
     },
     "execution_count": 64,
     "metadata": {},
     "output_type": "execute_result"
    }
   ],
   "source": [
    "#results \n",
    "@time begin\n",
    "    tree_pred = predict(tree, madelon_X_test)\n",
    "    accuracy_score(madelon_y_test, tree_pred)\n",
    "end"
   ]
  },
  {
   "cell_type": "markdown",
   "metadata": {},
   "source": [
    "### SVM"
   ]
  },
  {
   "cell_type": "code",
   "execution_count": 65,
   "metadata": {},
   "outputs": [
    {
     "name": "stdout",
     "output_type": "stream",
     "text": [
      "  3.862492 seconds (700 allocations: 59.328 KiB)\n"
     ]
    },
    {
     "data": {
      "text/plain": [
       "0.6966666666666667"
      ]
     },
     "execution_count": 65,
     "metadata": {},
     "output_type": "execute_result"
    }
   ],
   "source": [
    "# training time too long for CV and grid search\n",
    "# choose radial kernel to allow flexibility \n",
    "@time begin\n",
    "    C = [0.01, 0.1, 1, 10, 100]\n",
    "    scores = []\n",
    "    for c in C \n",
    "        svc = SVC(random_state=5, kernel=\"rbf\", C=c)\n",
    "        fit!(svc, madelon_X_train, madelon_y_train)\n",
    "        svc_pred = predict(svc, madelon_X_test)\n",
    "        append!(scores, accuracy_score(madelon_y_test, svc_pred))\n",
    "    end\n",
    "\n",
    "end\n",
    "maximum(scores)"
   ]
  },
  {
   "cell_type": "markdown",
   "metadata": {},
   "source": [
    "### MLP"
   ]
  },
  {
   "cell_type": "code",
   "execution_count": 66,
   "metadata": {},
   "outputs": [
    {
     "name": "stdout",
     "output_type": "stream",
     "text": [
      "194.241177 seconds (2.23 k allocations: 189.594 KiB)\n"
     ]
    },
    {
     "data": {
      "text/plain": [
       "0.6016666666666667"
      ]
     },
     "execution_count": 66,
     "metadata": {},
     "output_type": "execute_result"
    }
   ],
   "source": [
    "@time begin\n",
    "    alphas = [0.0001, 0.001, 0.01, 0.1]\n",
    "    sizes = [30, 100, 500, 1000]\n",
    "    scores = []\n",
    "    for a in alphas\n",
    "        for s in sizes\n",
    "            mlp = MLPClassifier(hidden_layer_sizes=(s, s, s), alpha=a)\n",
    "            fit!(mlp, madelon_X_train, madelon_y_train)\n",
    "            mlp_pred = predict(mlp, madelon_X_test)\n",
    "            append!(scores, accuracy_score(madelon_y_test, mlp_pred))\n",
    "            end\n",
    "    end\n",
    "    maximum(scores)\n",
    "end"
   ]
  },
  {
   "cell_type": "markdown",
   "metadata": {},
   "source": [
    "# KDD\n",
    "\n",
    "## Preprocessing"
   ]
  },
  {
   "cell_type": "code",
   "execution_count": 67,
   "metadata": {},
   "outputs": [
    {
     "data": {
      "text/plain": [
       "4-element Array{Array,1}:\n",
       " Any[0 \"tcp\" … 0.0 0.0; 0 \"icmp\" … 0.0 0.0; … ; 0 \"tcp\" … 0.0 0.0; 0 \"icmp\" … 0.0 0.0]\n",
       " Any[0 \"icmp\" … 0.0 0.0; 0 \"udp\" … 0.0 0.0; … ; 0 \"icmp\" … 0.0 0.0; 0 \"icmp\" … 0.0 0.0]\n",
       " [\"neptune.\", \"smurf.\", \"neptune.\", \"smurf.\", \"smurf.\", \"normal.\", \"smurf.\", \"neptune.\", \"smurf.\", \"neptune.\"  …  \"smurf.\", \"normal.\", \"smurf.\", \"back.\", \"neptune.\", \"smurf.\", \"neptune.\", \"normal.\", \"normal.\", \"smurf.\"]\n",
       " [\"smurf.\", \"normal.\", \"neptune.\", \"smurf.\", \"smurf.\", \"smurf.\", \"neptune.\", \"neptune.\", \"normal.\", \"neptune.\"  …  \"normal.\", \"smurf.\", \"smurf.\", \"smurf.\", \"neptune.\", \"smurf.\", \"smurf.\", \"neptune.\", \"smurf.\", \"smurf.\"]"
      ]
     },
     "execution_count": 67,
     "metadata": {},
     "output_type": "execute_result"
    }
   ],
   "source": [
    "# read in data\n",
    "kdd = CSV.File(\"data/KDD/kddcup.data_10_percent_corrected\", header=0)|> DataFrame\n",
    "kdd_X = convert(Array, kdd[:, Not(42)])\n",
    "kdd_y = convert(Array, kdd[:, 42])\n",
    "\n",
    "# separate training and testing \n",
    "X_train, X_test, y_train, y_test = train_test_split(kdd_X, kdd_y, test_size=0.3, random_state=5)\n"
   ]
  },
  {
   "cell_type": "code",
   "execution_count": 68,
   "metadata": {
    "scrolled": true
   },
   "outputs": [
    {
     "data": {
      "text/plain": [
       "148207×118 Array{Any,2}:\n",
       " 1.0  0.0  0.0  0.0  0.0  0.0  0.0  …  0.0   1.0   0.0  0.0  0.0  0.0  0.0\n",
       " 0.0  0.0  1.0  0.0  0.0  0.0  0.0     0.02  0.01  0.0  0.0  0.0  0.0  0.0\n",
       " 0.0  1.0  0.0  0.0  0.0  0.0  0.0     0.08  0.0   0.0  0.0  0.0  1.0  1.0\n",
       " 1.0  0.0  0.0  0.0  0.0  0.0  0.0     0.0   1.0   0.0  0.0  0.0  0.0  0.0\n",
       " 1.0  0.0  0.0  0.0  0.0  0.0  0.0     0.0   1.0   0.0  0.0  0.0  0.0  0.0\n",
       " 1.0  0.0  0.0  0.0  0.0  0.0  0.0  …  0.0   1.0   0.0  0.0  0.0  0.0  0.0\n",
       " 0.0  1.0  0.0  0.0  0.0  0.0  0.0     0.06  0.0   0.0  1.0  1.0  0.0  0.0\n",
       " 0.0  1.0  0.0  0.0  0.0  0.0  0.0     0.05  0.0   0.0  1.0  1.0  0.0  0.0\n",
       " 0.0  1.0  0.0  0.0  0.0  0.0  0.0     0.0   0.0   0.0  0.0  0.0  0.0  0.0\n",
       " 0.0  1.0  0.0  0.0  0.0  0.0  0.0     0.06  0.0   0.0  0.0  0.0  1.0  1.0\n",
       " 1.0  0.0  0.0  0.0  0.0  0.0  0.0  …  0.0   1.0   0.0  0.0  0.0  0.0  0.0\n",
       " 1.0  0.0  0.0  0.0  0.0  0.0  0.0     0.0   1.0   0.0  0.0  0.0  0.0  0.0\n",
       " 0.0  0.0  1.0  0.0  0.0  0.0  0.0     0.01  0.0   0.0  0.0  0.0  0.0  0.0\n",
       " ⋮                        ⋮         ⋱                        ⋮         \n",
       " 1.0  0.0  0.0  0.0  0.0  0.0  0.0  …  0.0   1.0   0.0  0.0  0.0  0.0  0.0\n",
       " 1.0  0.0  0.0  0.0  0.0  0.0  0.0     0.0   1.0   0.0  0.0  0.0  0.0  0.0\n",
       " 0.0  0.0  1.0  0.0  0.0  0.0  0.0     0.01  0.0   0.0  0.0  0.0  0.0  0.0\n",
       " 1.0  0.0  0.0  0.0  0.0  0.0  0.0     0.0   1.0   0.0  0.0  0.0  0.0  0.0\n",
       " 1.0  0.0  0.0  0.0  0.0  0.0  0.0     0.0   1.0   0.0  0.0  0.0  0.0  0.0\n",
       " 1.0  0.0  0.0  0.0  0.0  0.0  0.0  …  0.0   1.0   0.0  0.0  0.0  0.0  0.0\n",
       " 0.0  1.0  0.0  0.0  0.0  0.0  0.0     0.06  0.0   0.0  1.0  1.0  0.0  0.0\n",
       " 1.0  0.0  0.0  0.0  0.0  0.0  0.0     0.0   1.0   0.0  0.0  0.0  0.0  0.0\n",
       " 1.0  0.0  0.0  0.0  0.0  0.0  0.0     0.0   1.0   0.0  0.0  0.0  0.0  0.0\n",
       " 0.0  1.0  0.0  0.0  0.0  0.0  0.0     0.08  0.0   0.0  1.0  1.0  0.0  0.0\n",
       " 1.0  0.0  0.0  0.0  0.0  0.0  0.0  …  0.0   1.0   0.0  0.0  0.0  0.0  0.0\n",
       " 1.0  0.0  0.0  0.0  0.0  0.0  0.0     0.0   1.0   0.0  0.0  0.0  0.0  0.0"
      ]
     },
     "execution_count": 68,
     "metadata": {},
     "output_type": "execute_result"
    }
   ],
   "source": [
    "# Encode categorical features\n",
    "ohc = OneHotEncoder()\n",
    "encoded_cols_train = ohc.fit_transform(X_train[:, 2:4]).toarray()\n",
    "encoded_cols_test = ohc.transform(X_test[:, 2:4]).toarray()\n",
    "\n",
    "# combine the data \n",
    "X_train_transformed = hcat(encoded_cols_train, X_train[:, Not(2:4)])\n",
    "X_test_transformed = hcat(encoded_cols_test, X_test[:, Not(2:4)])"
   ]
  },
  {
   "cell_type": "code",
   "execution_count": 69,
   "metadata": {
    "scrolled": true
   },
   "outputs": [
    {
     "data": {
      "text/plain": [
       "148207-element BitArray{1}:\n",
       " 0\n",
       " 1\n",
       " 0\n",
       " 0\n",
       " 0\n",
       " 0\n",
       " 0\n",
       " 0\n",
       " 1\n",
       " 0\n",
       " 0\n",
       " 0\n",
       " 1\n",
       " ⋮\n",
       " 0\n",
       " 0\n",
       " 1\n",
       " 0\n",
       " 0\n",
       " 0\n",
       " 0\n",
       " 0\n",
       " 0\n",
       " 0\n",
       " 0\n",
       " 0"
      ]
     },
     "execution_count": 69,
     "metadata": {},
     "output_type": "execute_result"
    }
   ],
   "source": [
    "# encode y's \n",
    "le = LabelEncoder()\n",
    "y_train_labeled = le.fit_transform(y_train)\n",
    "y_test_labeled = le.transform(y_test)\n",
    "\n",
    "# binary y's \n",
    "y_train_binary = y_train .== \"normal.\"\n",
    "y_test_binary = y_test .== \"normal.\""
   ]
  },
  {
   "cell_type": "code",
   "execution_count": 70,
   "metadata": {},
   "outputs": [
    {
     "data": {
      "text/plain": [
       "0.19701631512894216"
      ]
     },
     "execution_count": 70,
     "metadata": {},
     "output_type": "execute_result"
    }
   ],
   "source": [
    "# class imbalance in training data \n",
    "sum(y_train .== \"normal.\") / length(y_train)"
   ]
  },
  {
   "cell_type": "markdown",
   "metadata": {},
   "source": [
    "## Model Creation\n",
    "\n",
    "### Naive Bayesian Classifier"
   ]
  },
  {
   "cell_type": "code",
   "execution_count": 71,
   "metadata": {},
   "outputs": [
    {
     "name": "stdout",
     "output_type": "stream",
     "text": [
      " 32.852713 seconds (82.30 M allocations: 1.226 GiB, 27.12% gc time)\n"
     ]
    },
    {
     "data": {
      "text/plain": [
       "PyObject GaussianNB()"
      ]
     },
     "execution_count": 71,
     "metadata": {},
     "output_type": "execute_result"
    }
   ],
   "source": [
    "# labeled fit \n",
    "@time begin\n",
    "    gauss_nb = fit!(GaussianNB(), X_train_transformed, y_train_labeled)\n",
    "end"
   ]
  },
  {
   "cell_type": "code",
   "execution_count": 72,
   "metadata": {},
   "outputs": [
    {
     "name": "stdout",
     "output_type": "stream",
     "text": [
      "0.9506096203283245\n",
      " 12.471727 seconds (35.27 M allocations: 539.362 MiB)\n"
     ]
    }
   ],
   "source": [
    "# results\n",
    "@time begin\n",
    "    gauss_nb_pred = predict(gauss_nb, X_test_transformed)\n",
    "    println(accuracy_score(y_test_labeled, gauss_nb_pred))\n",
    "end"
   ]
  },
  {
   "cell_type": "code",
   "execution_count": 73,
   "metadata": {},
   "outputs": [
    {
     "name": "stdout",
     "output_type": "stream",
     "text": [
      " 35.733233 seconds (82.30 M allocations: 1.227 GiB, 27.93% gc time)\n"
     ]
    },
    {
     "data": {
      "text/plain": [
       "PyObject GaussianNB()"
      ]
     },
     "execution_count": 73,
     "metadata": {},
     "output_type": "execute_result"
    }
   ],
   "source": [
    "# binary fit \n",
    "@time begin\n",
    "    gauss_nb = fit!(GaussianNB(), X_train_transformed, y_train_binary)\n",
    "end"
   ]
  },
  {
   "cell_type": "code",
   "execution_count": 74,
   "metadata": {},
   "outputs": [
    {
     "name": "stdout",
     "output_type": "stream",
     "text": [
      "0.9798390089536931\n",
      "  9.197611 seconds (35.27 M allocations: 538.514 MiB, 8.30% gc time)\n"
     ]
    }
   ],
   "source": [
    "# results \n",
    "@time begin \n",
    "    gauss_nb_pred = predict(gauss_nb, X_test_transformed)\n",
    "    println(accuracy_score(y_test_binary, gauss_nb_pred))\n",
    "end"
   ]
  },
  {
   "cell_type": "markdown",
   "metadata": {},
   "source": [
    "### Decision Tree"
   ]
  },
  {
   "cell_type": "code",
   "execution_count": 75,
   "metadata": {},
   "outputs": [
    {
     "name": "stdout",
     "output_type": "stream",
     "text": [
      "297.775323 seconds (705.46 M allocations: 10.516 GiB, 7.22% gc time)\n"
     ]
    },
    {
     "data": {
      "text/plain": [
       "0.9997436018541634"
      ]
     },
     "execution_count": 75,
     "metadata": {},
     "output_type": "execute_result"
    }
   ],
   "source": [
    "# Cross validation takes too long\n",
    "# attempt to find best depth \n",
    "@time begin\n",
    "    scores = []\n",
    "    for i in 25:30\n",
    "        tree = fit!(DecisionTreeClassifier(max_depth=i, random_state=5),\n",
    "                X_train_transformed,\n",
    "                y_train_binary)\n",
    "        tree_pred = predict(tree, X_test_transformed)\n",
    "        result = accuracy_score(y_test_binary, tree_pred)\n",
    "        append!(scores, result)\n",
    "    end\n",
    "    maximum(scores)\n",
    "end"
   ]
  },
  {
   "cell_type": "markdown",
   "metadata": {},
   "source": [
    "### SVM"
   ]
  },
  {
   "cell_type": "code",
   "execution_count": 76,
   "metadata": {},
   "outputs": [
    {
     "name": "stdout",
     "output_type": "stream",
     "text": [
      "443.808755 seconds (587.89 M allocations: 8.763 GiB, 4.04% gc time)\n"
     ]
    },
    {
     "data": {
      "text/plain": [
       "0.9937519820251405"
      ]
     },
     "execution_count": 76,
     "metadata": {},
     "output_type": "execute_result"
    }
   ],
   "source": [
    "# Cross validation takes too long\n",
    "# find best C \n",
    "@time begin\n",
    "    C = [0.01, 0.1, 1, 10, 100]\n",
    "    scores = []\n",
    "    for c in C\n",
    "        svc = LinearSVC(random_state=5, C=c)\n",
    "        fit!(svc, X_train_transformed, y_train_binary)\n",
    "        svc_pred = predict(svc, X_test_transformed)\n",
    "        append!(scores, accuracy_score(y_test_binary, svc_pred))\n",
    "    end\n",
    "    maximum(scores)\n",
    "end"
   ]
  },
  {
   "cell_type": "markdown",
   "metadata": {},
   "source": [
    "### MLP"
   ]
  },
  {
   "cell_type": "code",
   "execution_count": 77,
   "metadata": {},
   "outputs": [
    {
     "name": "stdout",
     "output_type": "stream",
     "text": [
      " 65.383443 seconds (82.30 M allocations: 1.227 GiB, 2.93% gc time)\n"
     ]
    },
    {
     "data": {
      "text/plain": [
       "PyObject MLPClassifier()"
      ]
     },
     "execution_count": 77,
     "metadata": {},
     "output_type": "execute_result"
    }
   ],
   "source": [
    "@time begin\n",
    "    mlp = MLPClassifier()\n",
    "    fit!(mlp, X_train_transformed, y_train_binary)\n",
    "end"
   ]
  },
  {
   "cell_type": "code",
   "execution_count": 78,
   "metadata": {},
   "outputs": [
    {
     "name": "stdout",
     "output_type": "stream",
     "text": [
      "  9.313207 seconds (35.27 M allocations: 538.513 MiB, 9.98% gc time)\n"
     ]
    },
    {
     "data": {
      "text/plain": [
       "0.996457657195679"
      ]
     },
     "execution_count": 78,
     "metadata": {},
     "output_type": "execute_result"
    }
   ],
   "source": [
    "@time begin\n",
    "    mlp_pred = predict(mlp, X_test_transformed)\n",
    "    accuracy_score(y_test_binary, mlp_pred)\n",
    "end    "
   ]
  }
 ],
 "metadata": {
  "kernelspec": {
   "display_name": "Julia 1.5.3",
   "language": "julia",
   "name": "julia-1.5"
  },
  "language_info": {
   "file_extension": ".jl",
   "mimetype": "application/julia",
   "name": "julia",
   "version": "1.5.3"
  }
 },
 "nbformat": 4,
 "nbformat_minor": 4
}
